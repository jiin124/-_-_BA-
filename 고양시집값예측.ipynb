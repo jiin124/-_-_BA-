{
  "nbformat": 4,
  "nbformat_minor": 0,
  "metadata": {
    "colab": {
      "name": "고양시집값예측.ipynb",
      "provenance": [],
      "mount_file_id": "1VwVOyGh16o-yhnTcytvXA3I1tj8MAmCH",
      "authorship_tag": "ABX9TyO5C06F+anbf4lwC6xc2AZB",
      "include_colab_link": true
    },
    "kernelspec": {
      "name": "python3",
      "display_name": "Python 3"
    },
    "language_info": {
      "name": "python"
    }
  },
  "cells": [
    {
      "cell_type": "markdown",
      "metadata": {
        "id": "view-in-github",
        "colab_type": "text"
      },
      "source": [
        "<a href=\"https://colab.research.google.com/github/jiin124/Goyang_house_price_predict_BAproject/blob/main/%EA%B3%A0%EC%96%91%EC%8B%9C%EC%A7%91%EA%B0%92%EC%98%88%EC%B8%A1.ipynb\" target=\"_parent\"><img src=\"https://colab.research.google.com/assets/colab-badge.svg\" alt=\"Open In Colab\"/></a>"
      ]
    },
    {
      "cell_type": "code",
      "execution_count": null,
      "metadata": {
        "id": "7heaVBLvT0Du"
      },
      "outputs": [],
      "source": [
        "import pandas as pd\n",
        "import numpy as np\n",
        "import matplotlib.pyplot as plt\n",
        "import seaborn as sns\n",
        "import os\n",
        "plt.style.use('ggplot')\n",
        "import warnings\n",
        "warnings.filterwarnings('ignore')"
      ]
    },
    {
      "cell_type": "code",
      "source": [
        "!sudo apt-get install -y fonts-nanum\n",
        "!sudo fc-cache -fv\n",
        "!rm ~/.cache/matplotlib -rf"
      ],
      "metadata": {
        "colab": {
          "base_uri": "https://localhost:8080/"
        },
        "id": "EPxQTd5EVO6z",
        "outputId": "00e6ba38-c786-4f1b-eb96-b1198db0602f"
      },
      "execution_count": null,
      "outputs": [
        {
          "output_type": "stream",
          "name": "stdout",
          "text": [
            "Reading package lists... Done\n",
            "Building dependency tree       \n",
            "Reading state information... Done\n",
            "The following NEW packages will be installed:\n",
            "  fonts-nanum\n",
            "0 upgraded, 1 newly installed, 0 to remove and 39 not upgraded.\n",
            "Need to get 9,604 kB of archives.\n",
            "After this operation, 29.5 MB of additional disk space will be used.\n",
            "Get:1 http://archive.ubuntu.com/ubuntu bionic/universe amd64 fonts-nanum all 20170925-1 [9,604 kB]\n",
            "Fetched 9,604 kB in 0s (40.5 MB/s)\n",
            "debconf: unable to initialize frontend: Dialog\n",
            "debconf: (No usable dialog-like program is installed, so the dialog based frontend cannot be used. at /usr/share/perl5/Debconf/FrontEnd/Dialog.pm line 76, <> line 1.)\n",
            "debconf: falling back to frontend: Readline\n",
            "debconf: unable to initialize frontend: Readline\n",
            "debconf: (This frontend requires a controlling tty.)\n",
            "debconf: falling back to frontend: Teletype\n",
            "dpkg-preconfigure: unable to re-open stdin: \n",
            "Selecting previously unselected package fonts-nanum.\n",
            "(Reading database ... 155455 files and directories currently installed.)\n",
            "Preparing to unpack .../fonts-nanum_20170925-1_all.deb ...\n",
            "Unpacking fonts-nanum (20170925-1) ...\n",
            "Setting up fonts-nanum (20170925-1) ...\n",
            "Processing triggers for fontconfig (2.12.6-0ubuntu2) ...\n",
            "/usr/share/fonts: caching, new cache contents: 0 fonts, 1 dirs\n",
            "/usr/share/fonts/truetype: caching, new cache contents: 0 fonts, 3 dirs\n",
            "/usr/share/fonts/truetype/humor-sans: caching, new cache contents: 1 fonts, 0 dirs\n",
            "/usr/share/fonts/truetype/liberation: caching, new cache contents: 16 fonts, 0 dirs\n",
            "/usr/share/fonts/truetype/nanum: caching, new cache contents: 10 fonts, 0 dirs\n",
            "/usr/local/share/fonts: caching, new cache contents: 0 fonts, 0 dirs\n",
            "/root/.local/share/fonts: skipping, no such directory\n",
            "/root/.fonts: skipping, no such directory\n",
            "/var/cache/fontconfig: cleaning cache directory\n",
            "/root/.cache/fontconfig: not cleaning non-existent cache directory\n",
            "/root/.fontconfig: not cleaning non-existent cache directory\n",
            "fc-cache: succeeded\n"
          ]
        }
      ]
    },
    {
      "cell_type": "code",
      "source": [
        "#한글 폰트 사용을 위해서 세팅\n",
        "from matplotlib import font_manager,rc\n",
        "\n",
        "font_path=\"/content/drive/MyDrive/NanumSquareB.ttf\"\n",
        "font=font_manager.FontProperties(fname=font_path)"
      ],
      "metadata": {
        "id": "CDtITojhVP1z"
      },
      "execution_count": null,
      "outputs": []
    },
    {
      "cell_type": "code",
      "source": [
        "plt.rc('font',family='NanumBarunGothic')"
      ],
      "metadata": {
        "id": "FwSRgEN_VRFZ"
      },
      "execution_count": null,
      "outputs": []
    },
    {
      "cell_type": "code",
      "source": [
        "df=pd.read_csv('/content/고양시집.csv',encoding='cp949')"
      ],
      "metadata": {
        "id": "l3vj6HJ1VS3V"
      },
      "execution_count": null,
      "outputs": []
    },
    {
      "cell_type": "code",
      "source": [
        "df.head()"
      ],
      "metadata": {
        "colab": {
          "base_uri": "https://localhost:8080/",
          "height": 354
        },
        "id": "xEEc5ko_VWrv",
        "outputId": "b234f8e5-4484-4954-ba66-becd575adc19"
      },
      "execution_count": null,
      "outputs": [
        {
          "output_type": "execute_result",
          "data": {
            "text/plain": [
              "     도      구    동  전용면적(㎡)   계약년  계약월    건축년도     도로명      시군구 코드 거래금액(만원)\n",
              "0  경기도  고양덕양구  고양동    84.93  2021    3  2007.0  읍내로 25  4128111600   27,000\n",
              "1  경기도  고양덕양구  고양동    59.99  2021    3  2007.0  읍내로 25  4128111600   26,500\n",
              "2  경기도  고양덕양구  고양동    84.93  2021    3  2007.0  읍내로 25  4128111600   29,700\n",
              "3  경기도  고양덕양구  고양동    59.99  2021    4  2007.0  읍내로 25  4128111600   26,900\n",
              "4  경기도  고양덕양구  고양동    84.93  2021    4  2007.0  읍내로 25  4128111600   28,000"
            ],
            "text/html": [
              "\n",
              "  <div id=\"df-f370d25a-eedc-4e28-8bd1-21adda4c3d2c\">\n",
              "    <div class=\"colab-df-container\">\n",
              "      <div>\n",
              "<style scoped>\n",
              "    .dataframe tbody tr th:only-of-type {\n",
              "        vertical-align: middle;\n",
              "    }\n",
              "\n",
              "    .dataframe tbody tr th {\n",
              "        vertical-align: top;\n",
              "    }\n",
              "\n",
              "    .dataframe thead th {\n",
              "        text-align: right;\n",
              "    }\n",
              "</style>\n",
              "<table border=\"1\" class=\"dataframe\">\n",
              "  <thead>\n",
              "    <tr style=\"text-align: right;\">\n",
              "      <th></th>\n",
              "      <th>도</th>\n",
              "      <th>구</th>\n",
              "      <th>동</th>\n",
              "      <th>전용면적(㎡)</th>\n",
              "      <th>계약년</th>\n",
              "      <th>계약월</th>\n",
              "      <th>건축년도</th>\n",
              "      <th>도로명</th>\n",
              "      <th>시군구 코드</th>\n",
              "      <th>거래금액(만원)</th>\n",
              "    </tr>\n",
              "  </thead>\n",
              "  <tbody>\n",
              "    <tr>\n",
              "      <th>0</th>\n",
              "      <td>경기도</td>\n",
              "      <td>고양덕양구</td>\n",
              "      <td>고양동</td>\n",
              "      <td>84.93</td>\n",
              "      <td>2021</td>\n",
              "      <td>3</td>\n",
              "      <td>2007.0</td>\n",
              "      <td>읍내로 25</td>\n",
              "      <td>4128111600</td>\n",
              "      <td>27,000</td>\n",
              "    </tr>\n",
              "    <tr>\n",
              "      <th>1</th>\n",
              "      <td>경기도</td>\n",
              "      <td>고양덕양구</td>\n",
              "      <td>고양동</td>\n",
              "      <td>59.99</td>\n",
              "      <td>2021</td>\n",
              "      <td>3</td>\n",
              "      <td>2007.0</td>\n",
              "      <td>읍내로 25</td>\n",
              "      <td>4128111600</td>\n",
              "      <td>26,500</td>\n",
              "    </tr>\n",
              "    <tr>\n",
              "      <th>2</th>\n",
              "      <td>경기도</td>\n",
              "      <td>고양덕양구</td>\n",
              "      <td>고양동</td>\n",
              "      <td>84.93</td>\n",
              "      <td>2021</td>\n",
              "      <td>3</td>\n",
              "      <td>2007.0</td>\n",
              "      <td>읍내로 25</td>\n",
              "      <td>4128111600</td>\n",
              "      <td>29,700</td>\n",
              "    </tr>\n",
              "    <tr>\n",
              "      <th>3</th>\n",
              "      <td>경기도</td>\n",
              "      <td>고양덕양구</td>\n",
              "      <td>고양동</td>\n",
              "      <td>59.99</td>\n",
              "      <td>2021</td>\n",
              "      <td>4</td>\n",
              "      <td>2007.0</td>\n",
              "      <td>읍내로 25</td>\n",
              "      <td>4128111600</td>\n",
              "      <td>26,900</td>\n",
              "    </tr>\n",
              "    <tr>\n",
              "      <th>4</th>\n",
              "      <td>경기도</td>\n",
              "      <td>고양덕양구</td>\n",
              "      <td>고양동</td>\n",
              "      <td>84.93</td>\n",
              "      <td>2021</td>\n",
              "      <td>4</td>\n",
              "      <td>2007.0</td>\n",
              "      <td>읍내로 25</td>\n",
              "      <td>4128111600</td>\n",
              "      <td>28,000</td>\n",
              "    </tr>\n",
              "  </tbody>\n",
              "</table>\n",
              "</div>\n",
              "      <button class=\"colab-df-convert\" onclick=\"convertToInteractive('df-f370d25a-eedc-4e28-8bd1-21adda4c3d2c')\"\n",
              "              title=\"Convert this dataframe to an interactive table.\"\n",
              "              style=\"display:none;\">\n",
              "        \n",
              "  <svg xmlns=\"http://www.w3.org/2000/svg\" height=\"24px\"viewBox=\"0 0 24 24\"\n",
              "       width=\"24px\">\n",
              "    <path d=\"M0 0h24v24H0V0z\" fill=\"none\"/>\n",
              "    <path d=\"M18.56 5.44l.94 2.06.94-2.06 2.06-.94-2.06-.94-.94-2.06-.94 2.06-2.06.94zm-11 1L8.5 8.5l.94-2.06 2.06-.94-2.06-.94L8.5 2.5l-.94 2.06-2.06.94zm10 10l.94 2.06.94-2.06 2.06-.94-2.06-.94-.94-2.06-.94 2.06-2.06.94z\"/><path d=\"M17.41 7.96l-1.37-1.37c-.4-.4-.92-.59-1.43-.59-.52 0-1.04.2-1.43.59L10.3 9.45l-7.72 7.72c-.78.78-.78 2.05 0 2.83L4 21.41c.39.39.9.59 1.41.59.51 0 1.02-.2 1.41-.59l7.78-7.78 2.81-2.81c.8-.78.8-2.07 0-2.86zM5.41 20L4 18.59l7.72-7.72 1.47 1.35L5.41 20z\"/>\n",
              "  </svg>\n",
              "      </button>\n",
              "      \n",
              "  <style>\n",
              "    .colab-df-container {\n",
              "      display:flex;\n",
              "      flex-wrap:wrap;\n",
              "      gap: 12px;\n",
              "    }\n",
              "\n",
              "    .colab-df-convert {\n",
              "      background-color: #E8F0FE;\n",
              "      border: none;\n",
              "      border-radius: 50%;\n",
              "      cursor: pointer;\n",
              "      display: none;\n",
              "      fill: #1967D2;\n",
              "      height: 32px;\n",
              "      padding: 0 0 0 0;\n",
              "      width: 32px;\n",
              "    }\n",
              "\n",
              "    .colab-df-convert:hover {\n",
              "      background-color: #E2EBFA;\n",
              "      box-shadow: 0px 1px 2px rgba(60, 64, 67, 0.3), 0px 1px 3px 1px rgba(60, 64, 67, 0.15);\n",
              "      fill: #174EA6;\n",
              "    }\n",
              "\n",
              "    [theme=dark] .colab-df-convert {\n",
              "      background-color: #3B4455;\n",
              "      fill: #D2E3FC;\n",
              "    }\n",
              "\n",
              "    [theme=dark] .colab-df-convert:hover {\n",
              "      background-color: #434B5C;\n",
              "      box-shadow: 0px 1px 3px 1px rgba(0, 0, 0, 0.15);\n",
              "      filter: drop-shadow(0px 1px 2px rgba(0, 0, 0, 0.3));\n",
              "      fill: #FFFFFF;\n",
              "    }\n",
              "  </style>\n",
              "\n",
              "      <script>\n",
              "        const buttonEl =\n",
              "          document.querySelector('#df-f370d25a-eedc-4e28-8bd1-21adda4c3d2c button.colab-df-convert');\n",
              "        buttonEl.style.display =\n",
              "          google.colab.kernel.accessAllowed ? 'block' : 'none';\n",
              "\n",
              "        async function convertToInteractive(key) {\n",
              "          const element = document.querySelector('#df-f370d25a-eedc-4e28-8bd1-21adda4c3d2c');\n",
              "          const dataTable =\n",
              "            await google.colab.kernel.invokeFunction('convertToInteractive',\n",
              "                                                     [key], {});\n",
              "          if (!dataTable) return;\n",
              "\n",
              "          const docLinkHtml = 'Like what you see? Visit the ' +\n",
              "            '<a target=\"_blank\" href=https://colab.research.google.com/notebooks/data_table.ipynb>data table notebook</a>'\n",
              "            + ' to learn more about interactive tables.';\n",
              "          element.innerHTML = '';\n",
              "          dataTable['output_type'] = 'display_data';\n",
              "          await google.colab.output.renderOutput(dataTable, element);\n",
              "          const docLink = document.createElement('div');\n",
              "          docLink.innerHTML = docLinkHtml;\n",
              "          element.appendChild(docLink);\n",
              "        }\n",
              "      </script>\n",
              "    </div>\n",
              "  </div>\n",
              "  "
            ]
          },
          "metadata": {},
          "execution_count": 3
        }
      ]
    },
    {
      "cell_type": "code",
      "source": [
        "df.info()"
      ],
      "metadata": {
        "colab": {
          "base_uri": "https://localhost:8080/"
        },
        "id": "a4SoySeuYzkJ",
        "outputId": "d5d0d945-066c-463c-eee6-a62d96124839"
      },
      "execution_count": null,
      "outputs": [
        {
          "output_type": "stream",
          "name": "stdout",
          "text": [
            "<class 'pandas.core.frame.DataFrame'>\n",
            "RangeIndex: 12386 entries, 0 to 12385\n",
            "Data columns (total 10 columns):\n",
            " #   Column    Non-Null Count  Dtype  \n",
            "---  ------    --------------  -----  \n",
            " 0   도         12386 non-null  object \n",
            " 1   구         12386 non-null  object \n",
            " 2   동         12386 non-null  object \n",
            " 3   전용면적(㎡)   12386 non-null  float64\n",
            " 4   계약년       12386 non-null  int64  \n",
            " 5   계약월       12386 non-null  int64  \n",
            " 6   건축년도      12384 non-null  float64\n",
            " 7   도로명       12384 non-null  object \n",
            " 8   시군구 코드    12386 non-null  int64  \n",
            " 9   거래금액(만원)  12386 non-null  object \n",
            "dtypes: float64(2), int64(3), object(5)\n",
            "memory usage: 967.8+ KB\n"
          ]
        }
      ]
    },
    {
      "cell_type": "code",
      "source": [
        "df.isna().sum()"
      ],
      "metadata": {
        "colab": {
          "base_uri": "https://localhost:8080/"
        },
        "id": "DHz2DnFkbMtV",
        "outputId": "5eea4f54-6787-44bd-d99a-99bf8f3e7af0"
      },
      "execution_count": null,
      "outputs": [
        {
          "output_type": "execute_result",
          "data": {
            "text/plain": [
              "도           0\n",
              "구           0\n",
              "동           0\n",
              "전용면적(㎡)     0\n",
              "계약년         0\n",
              "계약월         0\n",
              "건축년도        2\n",
              "도로명         2\n",
              "시군구 코드      0\n",
              "거래금액(만원)    0\n",
              "dtype: int64"
            ]
          },
          "metadata": {},
          "execution_count": 5
        }
      ]
    },
    {
      "cell_type": "code",
      "source": [
        "df=df.fillna(0)"
      ],
      "metadata": {
        "id": "BMnNYbpCarpa"
      },
      "execution_count": null,
      "outputs": []
    },
    {
      "cell_type": "code",
      "source": [
        "df['건축년도']=df['건축년도'].astype('int')"
      ],
      "metadata": {
        "id": "Dg27Fv9UY3Eh"
      },
      "execution_count": null,
      "outputs": []
    },
    {
      "cell_type": "code",
      "source": [
        "import re"
      ],
      "metadata": {
        "id": "ZZDS46I-bvU6"
      },
      "execution_count": null,
      "outputs": []
    },
    {
      "cell_type": "code",
      "source": [
        "for i in range(len(df)):\n",
        "  df['거래금액(만원)'][i]=re.sub(\"\\!|\\,|\\?\",\"\",str(df['거래금액(만원)'][i]))\n"
      ],
      "metadata": {
        "id": "KIFm8yQLbwOV"
      },
      "execution_count": null,
      "outputs": []
    },
    {
      "cell_type": "code",
      "source": [
        "df.head()"
      ],
      "metadata": {
        "colab": {
          "base_uri": "https://localhost:8080/",
          "height": 354
        },
        "id": "5IylqpIicBJR",
        "outputId": "a4f59abf-103b-4e97-dd05-f39d94ea387e"
      },
      "execution_count": null,
      "outputs": [
        {
          "output_type": "execute_result",
          "data": {
            "text/plain": [
              "     도      구    동  전용면적(㎡)   계약년  계약월  건축년도     도로명      시군구 코드  거래금액(만원)\n",
              "0  경기도  고양덕양구  고양동    84.93  2021    3  2007  읍내로 25  4128111600     27000\n",
              "1  경기도  고양덕양구  고양동    59.99  2021    3  2007  읍내로 25  4128111600     26500\n",
              "2  경기도  고양덕양구  고양동    84.93  2021    3  2007  읍내로 25  4128111600     29700\n",
              "3  경기도  고양덕양구  고양동    59.99  2021    4  2007  읍내로 25  4128111600     26900\n",
              "4  경기도  고양덕양구  고양동    84.93  2021    4  2007  읍내로 25  4128111600     28000"
            ],
            "text/html": [
              "\n",
              "  <div id=\"df-a3f7f402-816c-4a27-a299-55b567eecaf6\">\n",
              "    <div class=\"colab-df-container\">\n",
              "      <div>\n",
              "<style scoped>\n",
              "    .dataframe tbody tr th:only-of-type {\n",
              "        vertical-align: middle;\n",
              "    }\n",
              "\n",
              "    .dataframe tbody tr th {\n",
              "        vertical-align: top;\n",
              "    }\n",
              "\n",
              "    .dataframe thead th {\n",
              "        text-align: right;\n",
              "    }\n",
              "</style>\n",
              "<table border=\"1\" class=\"dataframe\">\n",
              "  <thead>\n",
              "    <tr style=\"text-align: right;\">\n",
              "      <th></th>\n",
              "      <th>도</th>\n",
              "      <th>구</th>\n",
              "      <th>동</th>\n",
              "      <th>전용면적(㎡)</th>\n",
              "      <th>계약년</th>\n",
              "      <th>계약월</th>\n",
              "      <th>건축년도</th>\n",
              "      <th>도로명</th>\n",
              "      <th>시군구 코드</th>\n",
              "      <th>거래금액(만원)</th>\n",
              "    </tr>\n",
              "  </thead>\n",
              "  <tbody>\n",
              "    <tr>\n",
              "      <th>0</th>\n",
              "      <td>경기도</td>\n",
              "      <td>고양덕양구</td>\n",
              "      <td>고양동</td>\n",
              "      <td>84.93</td>\n",
              "      <td>2021</td>\n",
              "      <td>3</td>\n",
              "      <td>2007</td>\n",
              "      <td>읍내로 25</td>\n",
              "      <td>4128111600</td>\n",
              "      <td>27000</td>\n",
              "    </tr>\n",
              "    <tr>\n",
              "      <th>1</th>\n",
              "      <td>경기도</td>\n",
              "      <td>고양덕양구</td>\n",
              "      <td>고양동</td>\n",
              "      <td>59.99</td>\n",
              "      <td>2021</td>\n",
              "      <td>3</td>\n",
              "      <td>2007</td>\n",
              "      <td>읍내로 25</td>\n",
              "      <td>4128111600</td>\n",
              "      <td>26500</td>\n",
              "    </tr>\n",
              "    <tr>\n",
              "      <th>2</th>\n",
              "      <td>경기도</td>\n",
              "      <td>고양덕양구</td>\n",
              "      <td>고양동</td>\n",
              "      <td>84.93</td>\n",
              "      <td>2021</td>\n",
              "      <td>3</td>\n",
              "      <td>2007</td>\n",
              "      <td>읍내로 25</td>\n",
              "      <td>4128111600</td>\n",
              "      <td>29700</td>\n",
              "    </tr>\n",
              "    <tr>\n",
              "      <th>3</th>\n",
              "      <td>경기도</td>\n",
              "      <td>고양덕양구</td>\n",
              "      <td>고양동</td>\n",
              "      <td>59.99</td>\n",
              "      <td>2021</td>\n",
              "      <td>4</td>\n",
              "      <td>2007</td>\n",
              "      <td>읍내로 25</td>\n",
              "      <td>4128111600</td>\n",
              "      <td>26900</td>\n",
              "    </tr>\n",
              "    <tr>\n",
              "      <th>4</th>\n",
              "      <td>경기도</td>\n",
              "      <td>고양덕양구</td>\n",
              "      <td>고양동</td>\n",
              "      <td>84.93</td>\n",
              "      <td>2021</td>\n",
              "      <td>4</td>\n",
              "      <td>2007</td>\n",
              "      <td>읍내로 25</td>\n",
              "      <td>4128111600</td>\n",
              "      <td>28000</td>\n",
              "    </tr>\n",
              "  </tbody>\n",
              "</table>\n",
              "</div>\n",
              "      <button class=\"colab-df-convert\" onclick=\"convertToInteractive('df-a3f7f402-816c-4a27-a299-55b567eecaf6')\"\n",
              "              title=\"Convert this dataframe to an interactive table.\"\n",
              "              style=\"display:none;\">\n",
              "        \n",
              "  <svg xmlns=\"http://www.w3.org/2000/svg\" height=\"24px\"viewBox=\"0 0 24 24\"\n",
              "       width=\"24px\">\n",
              "    <path d=\"M0 0h24v24H0V0z\" fill=\"none\"/>\n",
              "    <path d=\"M18.56 5.44l.94 2.06.94-2.06 2.06-.94-2.06-.94-.94-2.06-.94 2.06-2.06.94zm-11 1L8.5 8.5l.94-2.06 2.06-.94-2.06-.94L8.5 2.5l-.94 2.06-2.06.94zm10 10l.94 2.06.94-2.06 2.06-.94-2.06-.94-.94-2.06-.94 2.06-2.06.94z\"/><path d=\"M17.41 7.96l-1.37-1.37c-.4-.4-.92-.59-1.43-.59-.52 0-1.04.2-1.43.59L10.3 9.45l-7.72 7.72c-.78.78-.78 2.05 0 2.83L4 21.41c.39.39.9.59 1.41.59.51 0 1.02-.2 1.41-.59l7.78-7.78 2.81-2.81c.8-.78.8-2.07 0-2.86zM5.41 20L4 18.59l7.72-7.72 1.47 1.35L5.41 20z\"/>\n",
              "  </svg>\n",
              "      </button>\n",
              "      \n",
              "  <style>\n",
              "    .colab-df-container {\n",
              "      display:flex;\n",
              "      flex-wrap:wrap;\n",
              "      gap: 12px;\n",
              "    }\n",
              "\n",
              "    .colab-df-convert {\n",
              "      background-color: #E8F0FE;\n",
              "      border: none;\n",
              "      border-radius: 50%;\n",
              "      cursor: pointer;\n",
              "      display: none;\n",
              "      fill: #1967D2;\n",
              "      height: 32px;\n",
              "      padding: 0 0 0 0;\n",
              "      width: 32px;\n",
              "    }\n",
              "\n",
              "    .colab-df-convert:hover {\n",
              "      background-color: #E2EBFA;\n",
              "      box-shadow: 0px 1px 2px rgba(60, 64, 67, 0.3), 0px 1px 3px 1px rgba(60, 64, 67, 0.15);\n",
              "      fill: #174EA6;\n",
              "    }\n",
              "\n",
              "    [theme=dark] .colab-df-convert {\n",
              "      background-color: #3B4455;\n",
              "      fill: #D2E3FC;\n",
              "    }\n",
              "\n",
              "    [theme=dark] .colab-df-convert:hover {\n",
              "      background-color: #434B5C;\n",
              "      box-shadow: 0px 1px 3px 1px rgba(0, 0, 0, 0.15);\n",
              "      filter: drop-shadow(0px 1px 2px rgba(0, 0, 0, 0.3));\n",
              "      fill: #FFFFFF;\n",
              "    }\n",
              "  </style>\n",
              "\n",
              "      <script>\n",
              "        const buttonEl =\n",
              "          document.querySelector('#df-a3f7f402-816c-4a27-a299-55b567eecaf6 button.colab-df-convert');\n",
              "        buttonEl.style.display =\n",
              "          google.colab.kernel.accessAllowed ? 'block' : 'none';\n",
              "\n",
              "        async function convertToInteractive(key) {\n",
              "          const element = document.querySelector('#df-a3f7f402-816c-4a27-a299-55b567eecaf6');\n",
              "          const dataTable =\n",
              "            await google.colab.kernel.invokeFunction('convertToInteractive',\n",
              "                                                     [key], {});\n",
              "          if (!dataTable) return;\n",
              "\n",
              "          const docLinkHtml = 'Like what you see? Visit the ' +\n",
              "            '<a target=\"_blank\" href=https://colab.research.google.com/notebooks/data_table.ipynb>data table notebook</a>'\n",
              "            + ' to learn more about interactive tables.';\n",
              "          element.innerHTML = '';\n",
              "          dataTable['output_type'] = 'display_data';\n",
              "          await google.colab.output.renderOutput(dataTable, element);\n",
              "          const docLink = document.createElement('div');\n",
              "          docLink.innerHTML = docLinkHtml;\n",
              "          element.appendChild(docLink);\n",
              "        }\n",
              "      </script>\n",
              "    </div>\n",
              "  </div>\n",
              "  "
            ]
          },
          "metadata": {},
          "execution_count": 16
        }
      ]
    },
    {
      "cell_type": "code",
      "source": [
        "df['거래금액(만원)']=df['거래금액(만원)'].astype('int')"
      ],
      "metadata": {
        "id": "6xyIcONEbWUU"
      },
      "execution_count": null,
      "outputs": []
    },
    {
      "cell_type": "code",
      "source": [
        "df.info()"
      ],
      "metadata": {
        "colab": {
          "base_uri": "https://localhost:8080/"
        },
        "id": "jzT53ovvao14",
        "outputId": "7d9683a2-826e-450e-f255-ed35577440d4"
      },
      "execution_count": null,
      "outputs": [
        {
          "output_type": "stream",
          "name": "stdout",
          "text": [
            "<class 'pandas.core.frame.DataFrame'>\n",
            "RangeIndex: 12386 entries, 0 to 12385\n",
            "Data columns (total 10 columns):\n",
            " #   Column    Non-Null Count  Dtype  \n",
            "---  ------    --------------  -----  \n",
            " 0   도         12386 non-null  object \n",
            " 1   구         12386 non-null  object \n",
            " 2   동         12386 non-null  object \n",
            " 3   전용면적(㎡)   12386 non-null  float64\n",
            " 4   계약년       12386 non-null  int64  \n",
            " 5   계약월       12386 non-null  int64  \n",
            " 6   건축년도      12386 non-null  int64  \n",
            " 7   도로명       12386 non-null  object \n",
            " 8   시군구 코드    12386 non-null  int64  \n",
            " 9   거래금액(만원)  12386 non-null  int64  \n",
            "dtypes: float64(1), int64(5), object(4)\n",
            "memory usage: 967.8+ KB\n"
          ]
        }
      ]
    },
    {
      "cell_type": "code",
      "source": [
        "df.to_csv('집값전처리.csv')"
      ],
      "metadata": {
        "id": "YNYcRdfldGSG"
      },
      "execution_count": null,
      "outputs": []
    },
    {
      "cell_type": "markdown",
      "source": [
        "# EDA"
      ],
      "metadata": {
        "id": "t7yFQyUtdDjv"
      }
    },
    {
      "cell_type": "code",
      "source": [
        "df.columns"
      ],
      "metadata": {
        "colab": {
          "base_uri": "https://localhost:8080/"
        },
        "id": "l_aqL7mdbSDx",
        "outputId": "ef1cc56a-8bf8-4af6-b5c2-a187a1071e07"
      },
      "execution_count": null,
      "outputs": [
        {
          "output_type": "execute_result",
          "data": {
            "text/plain": [
              "Index(['도', '구', '동', '전용면적(㎡)', '계약년', '계약월', '건축년도', '도로명', '시군구 코드',\n",
              "       '거래금액(만원)'],\n",
              "      dtype='object')"
            ]
          },
          "metadata": {},
          "execution_count": 19
        }
      ]
    },
    {
      "cell_type": "code",
      "source": [
        "df['구'].value_counts()"
      ],
      "metadata": {
        "colab": {
          "base_uri": "https://localhost:8080/"
        },
        "id": "XvD-qr8DdPwx",
        "outputId": "62a76d2c-87fb-45eb-aa7f-bc3469a6758e"
      },
      "execution_count": null,
      "outputs": [
        {
          "output_type": "execute_result",
          "data": {
            "text/plain": [
              "고양덕양구     4969\n",
              "고양일산서구    4387\n",
              "고양일산동구    3030\n",
              "Name: 구, dtype: int64"
            ]
          },
          "metadata": {},
          "execution_count": 20
        }
      ]
    },
    {
      "cell_type": "code",
      "source": [
        "sns.countplot(data=df,x='구')"
      ],
      "metadata": {
        "colab": {
          "base_uri": "https://localhost:8080/",
          "height": 299
        },
        "id": "Yphi8lDudSZD",
        "outputId": "a83b6a1e-2c11-440c-fe68-81ebdd256cd5"
      },
      "execution_count": null,
      "outputs": [
        {
          "output_type": "execute_result",
          "data": {
            "text/plain": [
              "<matplotlib.axes._subplots.AxesSubplot at 0x7f5df5eea2d0>"
            ]
          },
          "metadata": {},
          "execution_count": 24
        },
        {
          "output_type": "display_data",
          "data": {
            "text/plain": [
              "<Figure size 432x288 with 1 Axes>"
            ],
            "image/png": "[encoded data removed]"
          },
          "metadata": {
            "needs_background": "light"
          }
        }
      ]
    },
    {
      "cell_type": "code",
      "source": [
        "sns.histplot(data=df,x='전용면적(㎡)')"
      ],
      "metadata": {
        "colab": {
          "base_uri": "https://localhost:8080/",
          "height": 299
        },
        "id": "EEYbiHU1dZ7n",
        "outputId": "ccc2c49e-922f-4597-b018-24a0da898d73"
      },
      "execution_count": null,
      "outputs": [
        {
          "output_type": "execute_result",
          "data": {
            "text/plain": [
              "<matplotlib.axes._subplots.AxesSubplot at 0x7f5df584c1d0>"
            ]
          },
          "metadata": {},
          "execution_count": 25
        },
        {
          "output_type": "display_data",
          "data": {
            "text/plain": [
              "<Figure size 432x288 with 1 Axes>"
            ],
            "image/png": "[encoded data removed]"
          },
          "metadata": {
            "needs_background": "light"
          }
        }
      ]
    },
    {
      "cell_type": "code",
      "source": [
        "sns.boxplot(data=df,x='전용면적(㎡)')"
      ],
      "metadata": {
        "colab": {
          "base_uri": "https://localhost:8080/",
          "height": 299
        },
        "id": "226k2RU0NLPG",
        "outputId": "da3ca880-7d3f-4089-d5f0-56a9c2b22539"
      },
      "execution_count": null,
      "outputs": [
        {
          "output_type": "execute_result",
          "data": {
            "text/plain": [
              "<matplotlib.axes._subplots.AxesSubplot at 0x7f5df18bf210>"
            ]
          },
          "metadata": {},
          "execution_count": 79
        },
        {
          "output_type": "display_data",
          "data": {
            "text/plain": [
              "<Figure size 432x288 with 1 Axes>"
            ],
            "image/png": "[encoded data removed]"
          },
          "metadata": {
            "needs_background": "light"
          }
        }
      ]
    },
    {
      "cell_type": "code",
      "source": [
        "sns.countplot(data=df,x='계약년')"
      ],
      "metadata": {
        "colab": {
          "base_uri": "https://localhost:8080/",
          "height": 302
        },
        "id": "1FseskzLeOiJ",
        "outputId": "276d6529-641b-458e-ebd0-99af240b355b"
      },
      "execution_count": null,
      "outputs": [
        {
          "output_type": "execute_result",
          "data": {
            "text/plain": [
              "<matplotlib.axes._subplots.AxesSubplot at 0x7f5df5950a50>"
            ]
          },
          "metadata": {},
          "execution_count": 26
        },
        {
          "output_type": "display_data",
          "data": {
            "text/plain": [
              "<Figure size 432x288 with 1 Axes>"
            ],
            "image/png": "[encoded data removed]"
          },
          "metadata": {
            "needs_background": "light"
          }
        }
      ]
    },
    {
      "cell_type": "code",
      "source": [
        "sns.countplot(data=df,x='계약월')"
      ],
      "metadata": {
        "colab": {
          "base_uri": "https://localhost:8080/",
          "height": 299
        },
        "id": "qoOJsv0SeU9I",
        "outputId": "3c255693-5081-441c-885b-8747731c36c3"
      },
      "execution_count": null,
      "outputs": [
        {
          "output_type": "execute_result",
          "data": {
            "text/plain": [
              "<matplotlib.axes._subplots.AxesSubplot at 0x7f5df5552990>"
            ]
          },
          "metadata": {},
          "execution_count": 27
        },
        {
          "output_type": "display_data",
          "data": {
            "text/plain": [
              "<Figure size 432x288 with 1 Axes>"
            ],
            "image/png": "[encoded data removed]"
          },
          "metadata": {
            "needs_background": "light"
          }
        }
      ]
    },
    {
      "cell_type": "code",
      "source": [
        "plt.figure(figsize=(12,5))\n",
        "plt.xticks(rotation=45)\n",
        "sns.countplot(data=df,x='건축년도')"
      ],
      "metadata": {
        "colab": {
          "base_uri": "https://localhost:8080/",
          "height": 358
        },
        "id": "e8HgizpgeZGv",
        "outputId": "407ea8c9-354a-4622-d46e-00cddad952a4"
      },
      "execution_count": null,
      "outputs": [
        {
          "output_type": "execute_result",
          "data": {
            "text/plain": [
              "<matplotlib.axes._subplots.AxesSubplot at 0x7f5df3be46d0>"
            ]
          },
          "metadata": {},
          "execution_count": 31
        },
        {
          "output_type": "display_data",
          "data": {
            "text/plain": [
              "<Figure size 864x360 with 1 Axes>"
            ],
            "image/png": "[encoded data removed]"
          },
          "metadata": {
            "needs_background": "light"
          }
        }
      ]
    },
    {
      "cell_type": "code",
      "source": [
        "sns.histplot(data=df,x='거래금액(만원)')"
      ],
      "metadata": {
        "colab": {
          "base_uri": "https://localhost:8080/",
          "height": 299
        },
        "id": "9CMaKsFledR3",
        "outputId": "7f780576-5d87-4c03-9868-1cb3812533d0"
      },
      "execution_count": null,
      "outputs": [
        {
          "output_type": "execute_result",
          "data": {
            "text/plain": [
              "<matplotlib.axes._subplots.AxesSubplot at 0x7f5df3daf490>"
            ]
          },
          "metadata": {},
          "execution_count": 32
        },
        {
          "output_type": "display_data",
          "data": {
            "text/plain": [
              "<Figure size 432x288 with 1 Axes>"
            ],
            "image/png": "[encoded data removed]"
          },
          "metadata": {
            "needs_background": "light"
          }
        }
      ]
    },
    {
      "cell_type": "code",
      "source": [
        "sns.boxplot(data=df,x='거래금액(만원)')"
      ],
      "metadata": {
        "colab": {
          "base_uri": "https://localhost:8080/",
          "height": 299
        },
        "id": "81zLR2ZZNSt9",
        "outputId": "7b32f8b6-eb77-4767-e3cb-cadec9cd0c4a"
      },
      "execution_count": null,
      "outputs": [
        {
          "output_type": "execute_result",
          "data": {
            "text/plain": [
              "<matplotlib.axes._subplots.AxesSubplot at 0x7f5df17eb050>"
            ]
          },
          "metadata": {},
          "execution_count": 80
        },
        {
          "output_type": "display_data",
          "data": {
            "text/plain": [
              "<Figure size 432x288 with 1 Axes>"
            ],
            "image/png": "[encoded data removed]"
          },
          "metadata": {
            "needs_background": "light"
          }
        }
      ]
    },
    {
      "cell_type": "code",
      "source": [
        "df['동'].value_counts()"
      ],
      "metadata": {
        "colab": {
          "base_uri": "https://localhost:8080/"
        },
        "id": "5O1ww7CVu0m4",
        "outputId": "a4689bb9-a7b0-4c47-eecd-ac7fcb27c2bf"
      },
      "execution_count": null,
      "outputs": [
        {
          "output_type": "execute_result",
          "data": {
            "text/plain": [
              "일산동     1299\n",
              "행신동     1198\n",
              "탄현동     1007\n",
              "주엽동      823\n",
              "중산동      620\n",
              "화정동      611\n",
              "풍동       511\n",
              "덕이동      507\n",
              "대화동      476\n",
              "관산동      452\n",
              "백석동      435\n",
              "고양동      431\n",
              "내유동      382\n",
              "마두동      378\n",
              "주교동      373\n",
              "식사동      338\n",
              "성사동      331\n",
              "토당동      290\n",
              "가좌동      254\n",
              "성석동      192\n",
              "사리현동     182\n",
              "도내동      164\n",
              "장항동      157\n",
              "정발산동     122\n",
              "신원동      120\n",
              "동산동      107\n",
              "삼송동      105\n",
              "원흥동       74\n",
              "향동동       56\n",
              "벽제동       51\n",
              "문봉동       49\n",
              "오금동       42\n",
              "대장동       40\n",
              "설문동       40\n",
              "지축동       34\n",
              "대자동       29\n",
              "화전동       18\n",
              "덕은동       15\n",
              "구산동       13\n",
              "현천동       11\n",
              "용두동       10\n",
              "행주내동       8\n",
              "법곳동        8\n",
              "행주외동       7\n",
              "지영동        4\n",
              "내곡동        3\n",
              "효자동        2\n",
              "강매동        2\n",
              "선유동        2\n",
              "산황동        2\n",
              "원당동        1\n",
              "Name: 동, dtype: int64"
            ]
          },
          "metadata": {},
          "execution_count": 33
        }
      ]
    },
    {
      "cell_type": "markdown",
      "source": [
        "# 학원 데이터 추가"
      ],
      "metadata": {
        "id": "ESDcln_wuUFj"
      }
    },
    {
      "cell_type": "code",
      "source": [
        "li={'가좌동': 62,\n",
        " '강매동': 1,\n",
        " '고양동': 61,\n",
        " '관산동': 30,\n",
        " '내유동': 22,\n",
        " '대자동': 7,\n",
        " '대장동': 2,\n",
        " '대화동': 161,\n",
        " '덕은동': 2,\n",
        " '덕이동': 61,\n",
        " '도내동': 52,\n",
        " '동산동': 44,\n",
        " '마두동': 203,\n",
        " '문봉동': 2,\n",
        " '백석동': 95,\n",
        " '법곳동': 1,\n",
        " '벽제동': 3,\n",
        " '사리현동': 6,\n",
        " '산황동': 1,\n",
        " '삼송동': 31,\n",
        " '설문동': 2,\n",
        " '성사동': 112,\n",
        " '성석동': 14,\n",
        " '식사동': 82,\n",
        " '신원동': 37,\n",
        " '오금동': 1,\n",
        " '용두동': 1,\n",
        " '원흥동': 41,\n",
        " '일산동': 443,\n",
        " '장항동': 116,\n",
        " '정발산동': 65,\n",
        " '주교동': 31,\n",
        " '주엽동': 250,\n",
        " '중산동': 149,\n",
        " '지영동': 1,\n",
        " '지축동': 13,\n",
        " '탄현동': 150,\n",
        " '토당동': 58,\n",
        " '풍동': 85,\n",
        " '행신동': 240,\n",
        " '행주내동': 1,\n",
        " '향동동': 51,\n",
        " '현천동': 2,\n",
        " '화전동': 4,\n",
        " '화정동': 259}"
      ],
      "metadata": {
        "id": "vkZjEwZ4_br7"
      },
      "execution_count": null,
      "outputs": []
    },
    {
      "cell_type": "code",
      "source": [
        "df['학원개수']=df['동'].map(li)"
      ],
      "metadata": {
        "id": "-y_4VcZjexla"
      },
      "execution_count": null,
      "outputs": []
    },
    {
      "cell_type": "code",
      "source": [
        "df.info()"
      ],
      "metadata": {
        "colab": {
          "base_uri": "https://localhost:8080/"
        },
        "id": "8fhE_Xh7BZJw",
        "outputId": "a8f4d56e-32f9-433f-b832-4325f2e29d12"
      },
      "execution_count": null,
      "outputs": [
        {
          "output_type": "stream",
          "name": "stdout",
          "text": [
            "<class 'pandas.core.frame.DataFrame'>\n",
            "RangeIndex: 12386 entries, 0 to 12385\n",
            "Data columns (total 11 columns):\n",
            " #   Column    Non-Null Count  Dtype  \n",
            "---  ------    --------------  -----  \n",
            " 0   도         12386 non-null  object \n",
            " 1   구         12386 non-null  object \n",
            " 2   동         12386 non-null  object \n",
            " 3   전용면적(㎡)   12386 non-null  float64\n",
            " 4   계약년       12386 non-null  int64  \n",
            " 5   계약월       12386 non-null  int64  \n",
            " 6   건축년도      12386 non-null  int64  \n",
            " 7   도로명       12386 non-null  object \n",
            " 8   시군구 코드    12386 non-null  int64  \n",
            " 9   거래금액(만원)  12386 non-null  int64  \n",
            " 10  학원개수      12358 non-null  float64\n",
            "dtypes: float64(2), int64(5), object(4)\n",
            "memory usage: 1.0+ MB\n"
          ]
        }
      ]
    },
    {
      "cell_type": "markdown",
      "source": [
        "## 대형마트 데이터 추가"
      ],
      "metadata": {
        "id": "b-cdT2MKB-U1"
      }
    },
    {
      "cell_type": "code",
      "source": [
        "mart={'가좌동': 2,\n",
        " '내유동': 1,\n",
        " '대화동': 10,\n",
        " '덕이동': 8,\n",
        " '도내동': 4,\n",
        " '동산동': 3,\n",
        " '마두동': 3,\n",
        " '문봉동': 1,\n",
        " '백석동': 4,\n",
        " '사리현동': 2,\n",
        " '삼송동': 1,\n",
        " '성사동': 1,\n",
        " '성석동': 3,\n",
        " '식사동': 6,\n",
        " '원당동': 1,\n",
        " '원흥동': 1,\n",
        " '일산동': 5,\n",
        " '장항동': 9,\n",
        " '정발산동': 2,\n",
        " '주엽동': 4,\n",
        " '중산동': 1,\n",
        " '지축동': 2,\n",
        " '탄현동': 1,\n",
        " '토당동': 4,\n",
        " '풍동': 4,\n",
        " '행신동': 7,\n",
        " '향동동': 4,\n",
        " '화전동': 1,\n",
        " '화정동': 7}"
      ],
      "metadata": {
        "id": "4Q7hwjYXCFmD"
      },
      "execution_count": null,
      "outputs": []
    },
    {
      "cell_type": "code",
      "source": [
        "df['대형마트 개수']=df['동'].map(mart)"
      ],
      "metadata": {
        "id": "Gx14IQ6IBaTJ"
      },
      "execution_count": null,
      "outputs": []
    },
    {
      "cell_type": "code",
      "source": [
        "df.tail()"
      ],
      "metadata": {
        "colab": {
          "base_uri": "https://localhost:8080/",
          "height": 206
        },
        "id": "Y1FYGz1wCILY",
        "outputId": "200305d9-5ef3-40f3-b521-03e724235d3f"
      },
      "execution_count": null,
      "outputs": [
        {
          "output_type": "execute_result",
          "data": {
            "text/plain": [
              "         도       구    동  전용면적(㎡)   계약년  계약월  건축년도      도로명      시군구 코드  \\\n",
              "12381  경기도  고양일산서구  탄현동   425.06  2021    3  1999  현중로26번길  4128710300   \n",
              "12382  경기도  고양일산서구  탄현동   253.61  2021    6  1996  현중로26번길  4128710300   \n",
              "12383  경기도  고양일산서구  탄현동   206.64  2021    5  1998  현중로26번길  4128710300   \n",
              "12384  경기도  고양일산서구  탄현동   206.64  2021    5  1998  현중로26번길  4128710300   \n",
              "12385  경기도  고양일산서구  탄현동   415.08  2021   10  1997  현중로26번길  4128710300   \n",
              "\n",
              "       거래금액(만원)   학원개수  대형마트 개수  \n",
              "12381     83800  150.0      1.0  \n",
              "12382     70000  150.0      1.0  \n",
              "12383     55000  150.0      1.0  \n",
              "12384     55000  150.0      1.0  \n",
              "12385     65000  150.0      1.0  "
            ],
            "text/html": [
              "\n",
              "  <div id=\"df-0b5084f8-7d6b-4129-a17a-9edf11b908b6\">\n",
              "    <div class=\"colab-df-container\">\n",
              "      <div>\n",
              "<style scoped>\n",
              "    .dataframe tbody tr th:only-of-type {\n",
              "        vertical-align: middle;\n",
              "    }\n",
              "\n",
              "    .dataframe tbody tr th {\n",
              "        vertical-align: top;\n",
              "    }\n",
              "\n",
              "    .dataframe thead th {\n",
              "        text-align: right;\n",
              "    }\n",
              "</style>\n",
              "<table border=\"1\" class=\"dataframe\">\n",
              "  <thead>\n",
              "    <tr style=\"text-align: right;\">\n",
              "      <th></th>\n",
              "      <th>도</th>\n",
              "      <th>구</th>\n",
              "      <th>동</th>\n",
              "      <th>전용면적(㎡)</th>\n",
              "      <th>계약년</th>\n",
              "      <th>계약월</th>\n",
              "      <th>건축년도</th>\n",
              "      <th>도로명</th>\n",
              "      <th>시군구 코드</th>\n",
              "      <th>거래금액(만원)</th>\n",
              "      <th>학원개수</th>\n",
              "      <th>대형마트 개수</th>\n",
              "    </tr>\n",
              "  </thead>\n",
              "  <tbody>\n",
              "    <tr>\n",
              "      <th>12381</th>\n",
              "      <td>경기도</td>\n",
              "      <td>고양일산서구</td>\n",
              "      <td>탄현동</td>\n",
              "      <td>425.06</td>\n",
              "      <td>2021</td>\n",
              "      <td>3</td>\n",
              "      <td>1999</td>\n",
              "      <td>현중로26번길</td>\n",
              "      <td>4128710300</td>\n",
              "      <td>83800</td>\n",
              "      <td>150.0</td>\n",
              "      <td>1.0</td>\n",
              "    </tr>\n",
              "    <tr>\n",
              "      <th>12382</th>\n",
              "      <td>경기도</td>\n",
              "      <td>고양일산서구</td>\n",
              "      <td>탄현동</td>\n",
              "      <td>253.61</td>\n",
              "      <td>2021</td>\n",
              "      <td>6</td>\n",
              "      <td>1996</td>\n",
              "      <td>현중로26번길</td>\n",
              "      <td>4128710300</td>\n",
              "      <td>70000</td>\n",
              "      <td>150.0</td>\n",
              "      <td>1.0</td>\n",
              "    </tr>\n",
              "    <tr>\n",
              "      <th>12383</th>\n",
              "      <td>경기도</td>\n",
              "      <td>고양일산서구</td>\n",
              "      <td>탄현동</td>\n",
              "      <td>206.64</td>\n",
              "      <td>2021</td>\n",
              "      <td>5</td>\n",
              "      <td>1998</td>\n",
              "      <td>현중로26번길</td>\n",
              "      <td>4128710300</td>\n",
              "      <td>55000</td>\n",
              "      <td>150.0</td>\n",
              "      <td>1.0</td>\n",
              "    </tr>\n",
              "    <tr>\n",
              "      <th>12384</th>\n",
              "      <td>경기도</td>\n",
              "      <td>고양일산서구</td>\n",
              "      <td>탄현동</td>\n",
              "      <td>206.64</td>\n",
              "      <td>2021</td>\n",
              "      <td>5</td>\n",
              "      <td>1998</td>\n",
              "      <td>현중로26번길</td>\n",
              "      <td>4128710300</td>\n",
              "      <td>55000</td>\n",
              "      <td>150.0</td>\n",
              "      <td>1.0</td>\n",
              "    </tr>\n",
              "    <tr>\n",
              "      <th>12385</th>\n",
              "      <td>경기도</td>\n",
              "      <td>고양일산서구</td>\n",
              "      <td>탄현동</td>\n",
              "      <td>415.08</td>\n",
              "      <td>2021</td>\n",
              "      <td>10</td>\n",
              "      <td>1997</td>\n",
              "      <td>현중로26번길</td>\n",
              "      <td>4128710300</td>\n",
              "      <td>65000</td>\n",
              "      <td>150.0</td>\n",
              "      <td>1.0</td>\n",
              "    </tr>\n",
              "  </tbody>\n",
              "</table>\n",
              "</div>\n",
              "      <button class=\"colab-df-convert\" onclick=\"convertToInteractive('df-0b5084f8-7d6b-4129-a17a-9edf11b908b6')\"\n",
              "              title=\"Convert this dataframe to an interactive table.\"\n",
              "              style=\"display:none;\">\n",
              "        \n",
              "  <svg xmlns=\"http://www.w3.org/2000/svg\" height=\"24px\"viewBox=\"0 0 24 24\"\n",
              "       width=\"24px\">\n",
              "    <path d=\"M0 0h24v24H0V0z\" fill=\"none\"/>\n",
              "    <path d=\"M18.56 5.44l.94 2.06.94-2.06 2.06-.94-2.06-.94-.94-2.06-.94 2.06-2.06.94zm-11 1L8.5 8.5l.94-2.06 2.06-.94-2.06-.94L8.5 2.5l-.94 2.06-2.06.94zm10 10l.94 2.06.94-2.06 2.06-.94-2.06-.94-.94-2.06-.94 2.06-2.06.94z\"/><path d=\"M17.41 7.96l-1.37-1.37c-.4-.4-.92-.59-1.43-.59-.52 0-1.04.2-1.43.59L10.3 9.45l-7.72 7.72c-.78.78-.78 2.05 0 2.83L4 21.41c.39.39.9.59 1.41.59.51 0 1.02-.2 1.41-.59l7.78-7.78 2.81-2.81c.8-.78.8-2.07 0-2.86zM5.41 20L4 18.59l7.72-7.72 1.47 1.35L5.41 20z\"/>\n",
              "  </svg>\n",
              "      </button>\n",
              "      \n",
              "  <style>\n",
              "    .colab-df-container {\n",
              "      display:flex;\n",
              "      flex-wrap:wrap;\n",
              "      gap: 12px;\n",
              "    }\n",
              "\n",
              "    .colab-df-convert {\n",
              "      background-color: #E8F0FE;\n",
              "      border: none;\n",
              "      border-radius: 50%;\n",
              "      cursor: pointer;\n",
              "      display: none;\n",
              "      fill: #1967D2;\n",
              "      height: 32px;\n",
              "      padding: 0 0 0 0;\n",
              "      width: 32px;\n",
              "    }\n",
              "\n",
              "    .colab-df-convert:hover {\n",
              "      background-color: #E2EBFA;\n",
              "      box-shadow: 0px 1px 2px rgba(60, 64, 67, 0.3), 0px 1px 3px 1px rgba(60, 64, 67, 0.15);\n",
              "      fill: #174EA6;\n",
              "    }\n",
              "\n",
              "    [theme=dark] .colab-df-convert {\n",
              "      background-color: #3B4455;\n",
              "      fill: #D2E3FC;\n",
              "    }\n",
              "\n",
              "    [theme=dark] .colab-df-convert:hover {\n",
              "      background-color: #434B5C;\n",
              "      box-shadow: 0px 1px 3px 1px rgba(0, 0, 0, 0.15);\n",
              "      filter: drop-shadow(0px 1px 2px rgba(0, 0, 0, 0.3));\n",
              "      fill: #FFFFFF;\n",
              "    }\n",
              "  </style>\n",
              "\n",
              "      <script>\n",
              "        const buttonEl =\n",
              "          document.querySelector('#df-0b5084f8-7d6b-4129-a17a-9edf11b908b6 button.colab-df-convert');\n",
              "        buttonEl.style.display =\n",
              "          google.colab.kernel.accessAllowed ? 'block' : 'none';\n",
              "\n",
              "        async function convertToInteractive(key) {\n",
              "          const element = document.querySelector('#df-0b5084f8-7d6b-4129-a17a-9edf11b908b6');\n",
              "          const dataTable =\n",
              "            await google.colab.kernel.invokeFunction('convertToInteractive',\n",
              "                                                     [key], {});\n",
              "          if (!dataTable) return;\n",
              "\n",
              "          const docLinkHtml = 'Like what you see? Visit the ' +\n",
              "            '<a target=\"_blank\" href=https://colab.research.google.com/notebooks/data_table.ipynb>data table notebook</a>'\n",
              "            + ' to learn more about interactive tables.';\n",
              "          element.innerHTML = '';\n",
              "          dataTable['output_type'] = 'display_data';\n",
              "          await google.colab.output.renderOutput(dataTable, element);\n",
              "          const docLink = document.createElement('div');\n",
              "          docLink.innerHTML = docLinkHtml;\n",
              "          element.appendChild(docLink);\n",
              "        }\n",
              "      </script>\n",
              "    </div>\n",
              "  </div>\n",
              "  "
            ]
          },
          "metadata": {},
          "execution_count": 44
        }
      ]
    },
    {
      "cell_type": "code",
      "source": [
        "df.info()"
      ],
      "metadata": {
        "colab": {
          "base_uri": "https://localhost:8080/"
        },
        "id": "lX1ttjZQCJPv",
        "outputId": "5d30b6ad-9f7c-41c2-992c-377672e32a20"
      },
      "execution_count": null,
      "outputs": [
        {
          "output_type": "stream",
          "name": "stdout",
          "text": [
            "<class 'pandas.core.frame.DataFrame'>\n",
            "RangeIndex: 12386 entries, 0 to 12385\n",
            "Data columns (total 12 columns):\n",
            " #   Column    Non-Null Count  Dtype  \n",
            "---  ------    --------------  -----  \n",
            " 0   도         12386 non-null  object \n",
            " 1   구         12386 non-null  object \n",
            " 2   동         12386 non-null  object \n",
            " 3   전용면적(㎡)   12386 non-null  float64\n",
            " 4   계약년       12386 non-null  int64  \n",
            " 5   계약월       12386 non-null  int64  \n",
            " 6   건축년도      12386 non-null  int64  \n",
            " 7   도로명       12386 non-null  object \n",
            " 8   시군구 코드    12386 non-null  int64  \n",
            " 9   거래금액(만원)  12386 non-null  int64  \n",
            " 10  학원개수      12358 non-null  float64\n",
            " 11  대형마트 개수   10721 non-null  float64\n",
            "dtypes: float64(3), int64(5), object(4)\n",
            "memory usage: 1.1+ MB\n"
          ]
        }
      ]
    },
    {
      "cell_type": "markdown",
      "source": [
        "## 병원 데이터 추가"
      ],
      "metadata": {
        "id": "QZiBwiGzCSqJ"
      }
    },
    {
      "cell_type": "code",
      "source": [
        "hos={'내유동': 2,\n",
        " '대화동': 3,\n",
        " '덕이동': 3,\n",
        " '마두동': 4,\n",
        " '문봉동': 1,\n",
        " '백석동': 7,\n",
        " '벽제동': 1,\n",
        " '성사동': 1,\n",
        " '성석동': 2,\n",
        " '식사동': 3,\n",
        " '원흥동': 3,\n",
        " '일산동': 2,\n",
        " '장항동': 6,\n",
        " '정발산동': 2,\n",
        " '주교동': 2,\n",
        " '주엽동': 5,\n",
        " '중산동': 8,\n",
        " '탄현동': 1,\n",
        " '토당동': 2,\n",
        " '풍동': 3,\n",
        " '행신동': 4,\n",
        " '화정동': 7}"
      ],
      "metadata": {
        "id": "6zQsoxUUCPQu"
      },
      "execution_count": null,
      "outputs": []
    },
    {
      "cell_type": "code",
      "source": [
        "df['병원개수']=df['동'].map(hos)"
      ],
      "metadata": {
        "id": "baNDqaBQC72R"
      },
      "execution_count": null,
      "outputs": []
    },
    {
      "cell_type": "code",
      "source": [
        "df.tail()"
      ],
      "metadata": {
        "colab": {
          "base_uri": "https://localhost:8080/",
          "height": 206
        },
        "id": "Sy9nC1ZGDVWG",
        "outputId": "9802cfac-5374-4a28-f5ce-42eaa5c523f6"
      },
      "execution_count": null,
      "outputs": [
        {
          "output_type": "execute_result",
          "data": {
            "text/plain": [
              "         도       구    동  전용면적(㎡)   계약년  계약월  건축년도      도로명      시군구 코드  \\\n",
              "12381  경기도  고양일산서구  탄현동   425.06  2021    3  1999  현중로26번길  4128710300   \n",
              "12382  경기도  고양일산서구  탄현동   253.61  2021    6  1996  현중로26번길  4128710300   \n",
              "12383  경기도  고양일산서구  탄현동   206.64  2021    5  1998  현중로26번길  4128710300   \n",
              "12384  경기도  고양일산서구  탄현동   206.64  2021    5  1998  현중로26번길  4128710300   \n",
              "12385  경기도  고양일산서구  탄현동   415.08  2021   10  1997  현중로26번길  4128710300   \n",
              "\n",
              "       거래금액(만원)   학원개수  대형마트 개수  병원개수  \n",
              "12381     83800  150.0      1.0   1.0  \n",
              "12382     70000  150.0      1.0   1.0  \n",
              "12383     55000  150.0      1.0   1.0  \n",
              "12384     55000  150.0      1.0   1.0  \n",
              "12385     65000  150.0      1.0   1.0  "
            ],
            "text/html": [
              "\n",
              "  <div id=\"df-d181aa2a-380c-4609-bb7a-a1c6acc569fe\">\n",
              "    <div class=\"colab-df-container\">\n",
              "      <div>\n",
              "<style scoped>\n",
              "    .dataframe tbody tr th:only-of-type {\n",
              "        vertical-align: middle;\n",
              "    }\n",
              "\n",
              "    .dataframe tbody tr th {\n",
              "        vertical-align: top;\n",
              "    }\n",
              "\n",
              "    .dataframe thead th {\n",
              "        text-align: right;\n",
              "    }\n",
              "</style>\n",
              "<table border=\"1\" class=\"dataframe\">\n",
              "  <thead>\n",
              "    <tr style=\"text-align: right;\">\n",
              "      <th></th>\n",
              "      <th>도</th>\n",
              "      <th>구</th>\n",
              "      <th>동</th>\n",
              "      <th>전용면적(㎡)</th>\n",
              "      <th>계약년</th>\n",
              "      <th>계약월</th>\n",
              "      <th>건축년도</th>\n",
              "      <th>도로명</th>\n",
              "      <th>시군구 코드</th>\n",
              "      <th>거래금액(만원)</th>\n",
              "      <th>학원개수</th>\n",
              "      <th>대형마트 개수</th>\n",
              "      <th>병원개수</th>\n",
              "    </tr>\n",
              "  </thead>\n",
              "  <tbody>\n",
              "    <tr>\n",
              "      <th>12381</th>\n",
              "      <td>경기도</td>\n",
              "      <td>고양일산서구</td>\n",
              "      <td>탄현동</td>\n",
              "      <td>425.06</td>\n",
              "      <td>2021</td>\n",
              "      <td>3</td>\n",
              "      <td>1999</td>\n",
              "      <td>현중로26번길</td>\n",
              "      <td>4128710300</td>\n",
              "      <td>83800</td>\n",
              "      <td>150.0</td>\n",
              "      <td>1.0</td>\n",
              "      <td>1.0</td>\n",
              "    </tr>\n",
              "    <tr>\n",
              "      <th>12382</th>\n",
              "      <td>경기도</td>\n",
              "      <td>고양일산서구</td>\n",
              "      <td>탄현동</td>\n",
              "      <td>253.61</td>\n",
              "      <td>2021</td>\n",
              "      <td>6</td>\n",
              "      <td>1996</td>\n",
              "      <td>현중로26번길</td>\n",
              "      <td>4128710300</td>\n",
              "      <td>70000</td>\n",
              "      <td>150.0</td>\n",
              "      <td>1.0</td>\n",
              "      <td>1.0</td>\n",
              "    </tr>\n",
              "    <tr>\n",
              "      <th>12383</th>\n",
              "      <td>경기도</td>\n",
              "      <td>고양일산서구</td>\n",
              "      <td>탄현동</td>\n",
              "      <td>206.64</td>\n",
              "      <td>2021</td>\n",
              "      <td>5</td>\n",
              "      <td>1998</td>\n",
              "      <td>현중로26번길</td>\n",
              "      <td>4128710300</td>\n",
              "      <td>55000</td>\n",
              "      <td>150.0</td>\n",
              "      <td>1.0</td>\n",
              "      <td>1.0</td>\n",
              "    </tr>\n",
              "    <tr>\n",
              "      <th>12384</th>\n",
              "      <td>경기도</td>\n",
              "      <td>고양일산서구</td>\n",
              "      <td>탄현동</td>\n",
              "      <td>206.64</td>\n",
              "      <td>2021</td>\n",
              "      <td>5</td>\n",
              "      <td>1998</td>\n",
              "      <td>현중로26번길</td>\n",
              "      <td>4128710300</td>\n",
              "      <td>55000</td>\n",
              "      <td>150.0</td>\n",
              "      <td>1.0</td>\n",
              "      <td>1.0</td>\n",
              "    </tr>\n",
              "    <tr>\n",
              "      <th>12385</th>\n",
              "      <td>경기도</td>\n",
              "      <td>고양일산서구</td>\n",
              "      <td>탄현동</td>\n",
              "      <td>415.08</td>\n",
              "      <td>2021</td>\n",
              "      <td>10</td>\n",
              "      <td>1997</td>\n",
              "      <td>현중로26번길</td>\n",
              "      <td>4128710300</td>\n",
              "      <td>65000</td>\n",
              "      <td>150.0</td>\n",
              "      <td>1.0</td>\n",
              "      <td>1.0</td>\n",
              "    </tr>\n",
              "  </tbody>\n",
              "</table>\n",
              "</div>\n",
              "      <button class=\"colab-df-convert\" onclick=\"convertToInteractive('df-d181aa2a-380c-4609-bb7a-a1c6acc569fe')\"\n",
              "              title=\"Convert this dataframe to an interactive table.\"\n",
              "              style=\"display:none;\">\n",
              "        \n",
              "  <svg xmlns=\"http://www.w3.org/2000/svg\" height=\"24px\"viewBox=\"0 0 24 24\"\n",
              "       width=\"24px\">\n",
              "    <path d=\"M0 0h24v24H0V0z\" fill=\"none\"/>\n",
              "    <path d=\"M18.56 5.44l.94 2.06.94-2.06 2.06-.94-2.06-.94-.94-2.06-.94 2.06-2.06.94zm-11 1L8.5 8.5l.94-2.06 2.06-.94-2.06-.94L8.5 2.5l-.94 2.06-2.06.94zm10 10l.94 2.06.94-2.06 2.06-.94-2.06-.94-.94-2.06-.94 2.06-2.06.94z\"/><path d=\"M17.41 7.96l-1.37-1.37c-.4-.4-.92-.59-1.43-.59-.52 0-1.04.2-1.43.59L10.3 9.45l-7.72 7.72c-.78.78-.78 2.05 0 2.83L4 21.41c.39.39.9.59 1.41.59.51 0 1.02-.2 1.41-.59l7.78-7.78 2.81-2.81c.8-.78.8-2.07 0-2.86zM5.41 20L4 18.59l7.72-7.72 1.47 1.35L5.41 20z\"/>\n",
              "  </svg>\n",
              "      </button>\n",
              "      \n",
              "  <style>\n",
              "    .colab-df-container {\n",
              "      display:flex;\n",
              "      flex-wrap:wrap;\n",
              "      gap: 12px;\n",
              "    }\n",
              "\n",
              "    .colab-df-convert {\n",
              "      background-color: #E8F0FE;\n",
              "      border: none;\n",
              "      border-radius: 50%;\n",
              "      cursor: pointer;\n",
              "      display: none;\n",
              "      fill: #1967D2;\n",
              "      height: 32px;\n",
              "      padding: 0 0 0 0;\n",
              "      width: 32px;\n",
              "    }\n",
              "\n",
              "    .colab-df-convert:hover {\n",
              "      background-color: #E2EBFA;\n",
              "      box-shadow: 0px 1px 2px rgba(60, 64, 67, 0.3), 0px 1px 3px 1px rgba(60, 64, 67, 0.15);\n",
              "      fill: #174EA6;\n",
              "    }\n",
              "\n",
              "    [theme=dark] .colab-df-convert {\n",
              "      background-color: #3B4455;\n",
              "      fill: #D2E3FC;\n",
              "    }\n",
              "\n",
              "    [theme=dark] .colab-df-convert:hover {\n",
              "      background-color: #434B5C;\n",
              "      box-shadow: 0px 1px 3px 1px rgba(0, 0, 0, 0.15);\n",
              "      filter: drop-shadow(0px 1px 2px rgba(0, 0, 0, 0.3));\n",
              "      fill: #FFFFFF;\n",
              "    }\n",
              "  </style>\n",
              "\n",
              "      <script>\n",
              "        const buttonEl =\n",
              "          document.querySelector('#df-d181aa2a-380c-4609-bb7a-a1c6acc569fe button.colab-df-convert');\n",
              "        buttonEl.style.display =\n",
              "          google.colab.kernel.accessAllowed ? 'block' : 'none';\n",
              "\n",
              "        async function convertToInteractive(key) {\n",
              "          const element = document.querySelector('#df-d181aa2a-380c-4609-bb7a-a1c6acc569fe');\n",
              "          const dataTable =\n",
              "            await google.colab.kernel.invokeFunction('convertToInteractive',\n",
              "                                                     [key], {});\n",
              "          if (!dataTable) return;\n",
              "\n",
              "          const docLinkHtml = 'Like what you see? Visit the ' +\n",
              "            '<a target=\"_blank\" href=https://colab.research.google.com/notebooks/data_table.ipynb>data table notebook</a>'\n",
              "            + ' to learn more about interactive tables.';\n",
              "          element.innerHTML = '';\n",
              "          dataTable['output_type'] = 'display_data';\n",
              "          await google.colab.output.renderOutput(dataTable, element);\n",
              "          const docLink = document.createElement('div');\n",
              "          docLink.innerHTML = docLinkHtml;\n",
              "          element.appendChild(docLink);\n",
              "        }\n",
              "      </script>\n",
              "    </div>\n",
              "  </div>\n",
              "  "
            ]
          },
          "metadata": {},
          "execution_count": 50
        }
      ]
    },
    {
      "cell_type": "code",
      "source": [
        "df.info()"
      ],
      "metadata": {
        "colab": {
          "base_uri": "https://localhost:8080/"
        },
        "id": "ArDK49AjDVuH",
        "outputId": "713db75f-4168-4dde-864a-bdce9937e182"
      },
      "execution_count": null,
      "outputs": [
        {
          "output_type": "stream",
          "name": "stdout",
          "text": [
            "<class 'pandas.core.frame.DataFrame'>\n",
            "RangeIndex: 12386 entries, 0 to 12385\n",
            "Data columns (total 13 columns):\n",
            " #   Column    Non-Null Count  Dtype  \n",
            "---  ------    --------------  -----  \n",
            " 0   도         12386 non-null  object \n",
            " 1   구         12386 non-null  object \n",
            " 2   동         12386 non-null  object \n",
            " 3   전용면적(㎡)   12386 non-null  float64\n",
            " 4   계약년       12386 non-null  int64  \n",
            " 5   계약월       12386 non-null  int64  \n",
            " 6   건축년도      12386 non-null  int64  \n",
            " 7   도로명       12386 non-null  object \n",
            " 8   시군구 코드    12386 non-null  int64  \n",
            " 9   거래금액(만원)  12386 non-null  int64  \n",
            " 10  학원개수      12358 non-null  float64\n",
            " 11  대형마트 개수   10721 non-null  float64\n",
            " 12  병원개수      10224 non-null  float64\n",
            "dtypes: float64(4), int64(5), object(4)\n",
            "memory usage: 1.2+ MB\n"
          ]
        }
      ]
    },
    {
      "cell_type": "markdown",
      "source": [
        "# 스타벅스"
      ],
      "metadata": {
        "id": "PWw_2mV8E0K7"
      }
    },
    {
      "cell_type": "code",
      "source": [
        "star={'고양동': 1,\n",
        " '대화동': 6,\n",
        " '덕이동': 2,\n",
        " '동산동': 1,\n",
        " '마두동': 1,\n",
        " '백석동': 3,\n",
        " '삼송동': 1,\n",
        " '식사동': 2,\n",
        " '신원동': 1,\n",
        " '원흥동': 1,\n",
        " '일산동': 1,\n",
        " '장항동': 3,\n",
        " '주교동': 1,\n",
        " '주엽동': 4,\n",
        " '중산동': 1,\n",
        " '탄현동': 2,\n",
        " '풍동': 2,\n",
        " '행신동': 2,\n",
        " '화정동': 3}"
      ],
      "metadata": {
        "id": "FmCGqfoeDaI1"
      },
      "execution_count": null,
      "outputs": []
    },
    {
      "cell_type": "code",
      "source": [
        "df['스타벅스개수']=df['동'].map(star)"
      ],
      "metadata": {
        "id": "978S09t4Ffrp"
      },
      "execution_count": null,
      "outputs": []
    },
    {
      "cell_type": "code",
      "source": [
        "df.info()"
      ],
      "metadata": {
        "colab": {
          "base_uri": "https://localhost:8080/"
        },
        "id": "Alsjej7HFk6U",
        "outputId": "26d7b85f-1e72-40ee-d408-4bb0b85d944c"
      },
      "execution_count": null,
      "outputs": [
        {
          "output_type": "stream",
          "name": "stdout",
          "text": [
            "<class 'pandas.core.frame.DataFrame'>\n",
            "RangeIndex: 12386 entries, 0 to 12385\n",
            "Data columns (total 14 columns):\n",
            " #   Column    Non-Null Count  Dtype  \n",
            "---  ------    --------------  -----  \n",
            " 0   도         12386 non-null  object \n",
            " 1   구         12386 non-null  object \n",
            " 2   동         12386 non-null  object \n",
            " 3   전용면적(㎡)   12386 non-null  float64\n",
            " 4   계약년       12386 non-null  int64  \n",
            " 5   계약월       12386 non-null  int64  \n",
            " 6   건축년도      12386 non-null  int64  \n",
            " 7   도로명       12386 non-null  object \n",
            " 8   시군구 코드    12386 non-null  int64  \n",
            " 9   거래금액(만원)  12386 non-null  int64  \n",
            " 10  학원개수      12358 non-null  float64\n",
            " 11  대형마트 개수   10721 non-null  float64\n",
            " 12  병원개수      10224 non-null  float64\n",
            " 13  스타벅스개수    9570 non-null   float64\n",
            "dtypes: float64(5), int64(5), object(4)\n",
            "memory usage: 1.3+ MB\n"
          ]
        }
      ]
    },
    {
      "cell_type": "code",
      "source": [
        "df.head()"
      ],
      "metadata": {
        "colab": {
          "base_uri": "https://localhost:8080/",
          "height": 206
        },
        "id": "Qs1WfjBdFl3j",
        "outputId": "bba69540-b494-4f7f-dfa8-0b7597fe115c"
      },
      "execution_count": null,
      "outputs": [
        {
          "output_type": "execute_result",
          "data": {
            "text/plain": [
              "     도      구    동  전용면적(㎡)   계약년  계약월  건축년도     도로명      시군구 코드  거래금액(만원)  \\\n",
              "0  경기도  고양덕양구  고양동    84.93  2021    3  2007  읍내로 25  4128111600     27000   \n",
              "1  경기도  고양덕양구  고양동    59.99  2021    3  2007  읍내로 25  4128111600     26500   \n",
              "2  경기도  고양덕양구  고양동    84.93  2021    3  2007  읍내로 25  4128111600     29700   \n",
              "3  경기도  고양덕양구  고양동    59.99  2021    4  2007  읍내로 25  4128111600     26900   \n",
              "4  경기도  고양덕양구  고양동    84.93  2021    4  2007  읍내로 25  4128111600     28000   \n",
              "\n",
              "   학원개수  대형마트 개수  병원개수  스타벅스개수  \n",
              "0  61.0      NaN   NaN     1.0  \n",
              "1  61.0      NaN   NaN     1.0  \n",
              "2  61.0      NaN   NaN     1.0  \n",
              "3  61.0      NaN   NaN     1.0  \n",
              "4  61.0      NaN   NaN     1.0  "
            ],
            "text/html": [
              "\n",
              "  <div id=\"df-73f8a059-9ff2-410e-9b51-1e72828a2d75\">\n",
              "    <div class=\"colab-df-container\">\n",
              "      <div>\n",
              "<style scoped>\n",
              "    .dataframe tbody tr th:only-of-type {\n",
              "        vertical-align: middle;\n",
              "    }\n",
              "\n",
              "    .dataframe tbody tr th {\n",
              "        vertical-align: top;\n",
              "    }\n",
              "\n",
              "    .dataframe thead th {\n",
              "        text-align: right;\n",
              "    }\n",
              "</style>\n",
              "<table border=\"1\" class=\"dataframe\">\n",
              "  <thead>\n",
              "    <tr style=\"text-align: right;\">\n",
              "      <th></th>\n",
              "      <th>도</th>\n",
              "      <th>구</th>\n",
              "      <th>동</th>\n",
              "      <th>전용면적(㎡)</th>\n",
              "      <th>계약년</th>\n",
              "      <th>계약월</th>\n",
              "      <th>건축년도</th>\n",
              "      <th>도로명</th>\n",
              "      <th>시군구 코드</th>\n",
              "      <th>거래금액(만원)</th>\n",
              "      <th>학원개수</th>\n",
              "      <th>대형마트 개수</th>\n",
              "      <th>병원개수</th>\n",
              "      <th>스타벅스개수</th>\n",
              "    </tr>\n",
              "  </thead>\n",
              "  <tbody>\n",
              "    <tr>\n",
              "      <th>0</th>\n",
              "      <td>경기도</td>\n",
              "      <td>고양덕양구</td>\n",
              "      <td>고양동</td>\n",
              "      <td>84.93</td>\n",
              "      <td>2021</td>\n",
              "      <td>3</td>\n",
              "      <td>2007</td>\n",
              "      <td>읍내로 25</td>\n",
              "      <td>4128111600</td>\n",
              "      <td>27000</td>\n",
              "      <td>61.0</td>\n",
              "      <td>NaN</td>\n",
              "      <td>NaN</td>\n",
              "      <td>1.0</td>\n",
              "    </tr>\n",
              "    <tr>\n",
              "      <th>1</th>\n",
              "      <td>경기도</td>\n",
              "      <td>고양덕양구</td>\n",
              "      <td>고양동</td>\n",
              "      <td>59.99</td>\n",
              "      <td>2021</td>\n",
              "      <td>3</td>\n",
              "      <td>2007</td>\n",
              "      <td>읍내로 25</td>\n",
              "      <td>4128111600</td>\n",
              "      <td>26500</td>\n",
              "      <td>61.0</td>\n",
              "      <td>NaN</td>\n",
              "      <td>NaN</td>\n",
              "      <td>1.0</td>\n",
              "    </tr>\n",
              "    <tr>\n",
              "      <th>2</th>\n",
              "      <td>경기도</td>\n",
              "      <td>고양덕양구</td>\n",
              "      <td>고양동</td>\n",
              "      <td>84.93</td>\n",
              "      <td>2021</td>\n",
              "      <td>3</td>\n",
              "      <td>2007</td>\n",
              "      <td>읍내로 25</td>\n",
              "      <td>4128111600</td>\n",
              "      <td>29700</td>\n",
              "      <td>61.0</td>\n",
              "      <td>NaN</td>\n",
              "      <td>NaN</td>\n",
              "      <td>1.0</td>\n",
              "    </tr>\n",
              "    <tr>\n",
              "      <th>3</th>\n",
              "      <td>경기도</td>\n",
              "      <td>고양덕양구</td>\n",
              "      <td>고양동</td>\n",
              "      <td>59.99</td>\n",
              "      <td>2021</td>\n",
              "      <td>4</td>\n",
              "      <td>2007</td>\n",
              "      <td>읍내로 25</td>\n",
              "      <td>4128111600</td>\n",
              "      <td>26900</td>\n",
              "      <td>61.0</td>\n",
              "      <td>NaN</td>\n",
              "      <td>NaN</td>\n",
              "      <td>1.0</td>\n",
              "    </tr>\n",
              "    <tr>\n",
              "      <th>4</th>\n",
              "      <td>경기도</td>\n",
              "      <td>고양덕양구</td>\n",
              "      <td>고양동</td>\n",
              "      <td>84.93</td>\n",
              "      <td>2021</td>\n",
              "      <td>4</td>\n",
              "      <td>2007</td>\n",
              "      <td>읍내로 25</td>\n",
              "      <td>4128111600</td>\n",
              "      <td>28000</td>\n",
              "      <td>61.0</td>\n",
              "      <td>NaN</td>\n",
              "      <td>NaN</td>\n",
              "      <td>1.0</td>\n",
              "    </tr>\n",
              "  </tbody>\n",
              "</table>\n",
              "</div>\n",
              "      <button class=\"colab-df-convert\" onclick=\"convertToInteractive('df-73f8a059-9ff2-410e-9b51-1e72828a2d75')\"\n",
              "              title=\"Convert this dataframe to an interactive table.\"\n",
              "              style=\"display:none;\">\n",
              "        \n",
              "  <svg xmlns=\"http://www.w3.org/2000/svg\" height=\"24px\"viewBox=\"0 0 24 24\"\n",
              "       width=\"24px\">\n",
              "    <path d=\"M0 0h24v24H0V0z\" fill=\"none\"/>\n",
              "    <path d=\"M18.56 5.44l.94 2.06.94-2.06 2.06-.94-2.06-.94-.94-2.06-.94 2.06-2.06.94zm-11 1L8.5 8.5l.94-2.06 2.06-.94-2.06-.94L8.5 2.5l-.94 2.06-2.06.94zm10 10l.94 2.06.94-2.06 2.06-.94-2.06-.94-.94-2.06-.94 2.06-2.06.94z\"/><path d=\"M17.41 7.96l-1.37-1.37c-.4-.4-.92-.59-1.43-.59-.52 0-1.04.2-1.43.59L10.3 9.45l-7.72 7.72c-.78.78-.78 2.05 0 2.83L4 21.41c.39.39.9.59 1.41.59.51 0 1.02-.2 1.41-.59l7.78-7.78 2.81-2.81c.8-.78.8-2.07 0-2.86zM5.41 20L4 18.59l7.72-7.72 1.47 1.35L5.41 20z\"/>\n",
              "  </svg>\n",
              "      </button>\n",
              "      \n",
              "  <style>\n",
              "    .colab-df-container {\n",
              "      display:flex;\n",
              "      flex-wrap:wrap;\n",
              "      gap: 12px;\n",
              "    }\n",
              "\n",
              "    .colab-df-convert {\n",
              "      background-color: #E8F0FE;\n",
              "      border: none;\n",
              "      border-radius: 50%;\n",
              "      cursor: pointer;\n",
              "      display: none;\n",
              "      fill: #1967D2;\n",
              "      height: 32px;\n",
              "      padding: 0 0 0 0;\n",
              "      width: 32px;\n",
              "    }\n",
              "\n",
              "    .colab-df-convert:hover {\n",
              "      background-color: #E2EBFA;\n",
              "      box-shadow: 0px 1px 2px rgba(60, 64, 67, 0.3), 0px 1px 3px 1px rgba(60, 64, 67, 0.15);\n",
              "      fill: #174EA6;\n",
              "    }\n",
              "\n",
              "    [theme=dark] .colab-df-convert {\n",
              "      background-color: #3B4455;\n",
              "      fill: #D2E3FC;\n",
              "    }\n",
              "\n",
              "    [theme=dark] .colab-df-convert:hover {\n",
              "      background-color: #434B5C;\n",
              "      box-shadow: 0px 1px 3px 1px rgba(0, 0, 0, 0.15);\n",
              "      filter: drop-shadow(0px 1px 2px rgba(0, 0, 0, 0.3));\n",
              "      fill: #FFFFFF;\n",
              "    }\n",
              "  </style>\n",
              "\n",
              "      <script>\n",
              "        const buttonEl =\n",
              "          document.querySelector('#df-73f8a059-9ff2-410e-9b51-1e72828a2d75 button.colab-df-convert');\n",
              "        buttonEl.style.display =\n",
              "          google.colab.kernel.accessAllowed ? 'block' : 'none';\n",
              "\n",
              "        async function convertToInteractive(key) {\n",
              "          const element = document.querySelector('#df-73f8a059-9ff2-410e-9b51-1e72828a2d75');\n",
              "          const dataTable =\n",
              "            await google.colab.kernel.invokeFunction('convertToInteractive',\n",
              "                                                     [key], {});\n",
              "          if (!dataTable) return;\n",
              "\n",
              "          const docLinkHtml = 'Like what you see? Visit the ' +\n",
              "            '<a target=\"_blank\" href=https://colab.research.google.com/notebooks/data_table.ipynb>data table notebook</a>'\n",
              "            + ' to learn more about interactive tables.';\n",
              "          element.innerHTML = '';\n",
              "          dataTable['output_type'] = 'display_data';\n",
              "          await google.colab.output.renderOutput(dataTable, element);\n",
              "          const docLink = document.createElement('div');\n",
              "          docLink.innerHTML = docLinkHtml;\n",
              "          element.appendChild(docLink);\n",
              "        }\n",
              "      </script>\n",
              "    </div>\n",
              "  </div>\n",
              "  "
            ]
          },
          "metadata": {},
          "execution_count": 54
        }
      ]
    },
    {
      "cell_type": "markdown",
      "source": [
        "##  베스킨라빈스 개수"
      ],
      "metadata": {
        "id": "rR3xTyaQFrc5"
      }
    },
    {
      "cell_type": "code",
      "source": [
        "baskin={'가좌동': 2,\n",
        " '고양동': 1,\n",
        " '관산동': 1,\n",
        " '내유동': 1,\n",
        " '대화동': 4,\n",
        " '덕이동': 1,\n",
        " '동산동': 1,\n",
        " '마두동': 1,\n",
        " '백석동': 3,\n",
        " '삼송동': 1,\n",
        " '성사동': 2,\n",
        " '신원동': 1,\n",
        " '원흥동': 1,\n",
        " '일산동': 3,\n",
        " '장항동': 4,\n",
        " '중산동': 2,\n",
        " '탄현동': 1,\n",
        " '토당동': 1,\n",
        " '풍동': 2,\n",
        " '행신동': 4,\n",
        " '향동동': 1,\n",
        " '화정동': 2}"
      ],
      "metadata": {
        "id": "lrbudTNdFmkE"
      },
      "execution_count": null,
      "outputs": []
    },
    {
      "cell_type": "code",
      "source": [
        "df['배스킨']=df['동'].map(baskin)"
      ],
      "metadata": {
        "id": "jBYpCi5QG_3M"
      },
      "execution_count": null,
      "outputs": []
    },
    {
      "cell_type": "code",
      "source": [
        "df.info()"
      ],
      "metadata": {
        "colab": {
          "base_uri": "https://localhost:8080/"
        },
        "id": "zTut0PqrHbCz",
        "outputId": "d17c8b23-059e-4286-a345-46e53c0d954f"
      },
      "execution_count": null,
      "outputs": [
        {
          "output_type": "stream",
          "name": "stdout",
          "text": [
            "<class 'pandas.core.frame.DataFrame'>\n",
            "RangeIndex: 12386 entries, 0 to 12385\n",
            "Data columns (total 15 columns):\n",
            " #   Column    Non-Null Count  Dtype  \n",
            "---  ------    --------------  -----  \n",
            " 0   도         12386 non-null  object \n",
            " 1   구         12386 non-null  object \n",
            " 2   동         12386 non-null  object \n",
            " 3   전용면적(㎡)   12386 non-null  float64\n",
            " 4   계약년       12386 non-null  int64  \n",
            " 5   계약월       12386 non-null  int64  \n",
            " 6   건축년도      12386 non-null  int64  \n",
            " 7   도로명       12386 non-null  object \n",
            " 8   시군구 코드    12386 non-null  int64  \n",
            " 9   거래금액(만원)  12386 non-null  int64  \n",
            " 10  학원개수      12358 non-null  float64\n",
            " 11  대형마트 개수   10721 non-null  float64\n",
            " 12  병원개수      10224 non-null  float64\n",
            " 13  스타벅스개수    9570 non-null   float64\n",
            " 14  배스킨       9801 non-null   float64\n",
            "dtypes: float64(6), int64(5), object(4)\n",
            "memory usage: 1.4+ MB\n"
          ]
        }
      ]
    },
    {
      "cell_type": "markdown",
      "source": [
        "## 써브웨이"
      ],
      "metadata": {
        "id": "pA21tFhqHxKo"
      }
    },
    {
      "cell_type": "code",
      "source": [
        "sub={'대화동': 2,\n",
        " '마두동': 1,\n",
        " '백석동': 1,\n",
        " '식사동': 1,\n",
        " '신원동': 1,\n",
        " '원흥동': 1,\n",
        " '일산동': 2,\n",
        " '장항동': 1,\n",
        " '주엽동': 1,\n",
        " '탄현동': 1,\n",
        " '화정동': 1}"
      ],
      "metadata": {
        "id": "2Ly0dFiaHcEu"
      },
      "execution_count": null,
      "outputs": []
    },
    {
      "cell_type": "code",
      "source": [
        "df['써브웨이']=df['동'].map(sub)"
      ],
      "metadata": {
        "id": "YbzcOqv5HzrZ"
      },
      "execution_count": null,
      "outputs": []
    },
    {
      "cell_type": "code",
      "source": [
        "df.info()"
      ],
      "metadata": {
        "colab": {
          "base_uri": "https://localhost:8080/"
        },
        "id": "LVh6i6w0H3ic",
        "outputId": "62e05d0a-8237-4e3d-df5a-52cb082a2dc2"
      },
      "execution_count": null,
      "outputs": [
        {
          "output_type": "stream",
          "name": "stdout",
          "text": [
            "<class 'pandas.core.frame.DataFrame'>\n",
            "RangeIndex: 12386 entries, 0 to 12385\n",
            "Data columns (total 16 columns):\n",
            " #   Column    Non-Null Count  Dtype  \n",
            "---  ------    --------------  -----  \n",
            " 0   도         12386 non-null  object \n",
            " 1   구         12386 non-null  object \n",
            " 2   동         12386 non-null  object \n",
            " 3   전용면적(㎡)   12386 non-null  float64\n",
            " 4   계약년       12386 non-null  int64  \n",
            " 5   계약월       12386 non-null  int64  \n",
            " 6   건축년도      12386 non-null  int64  \n",
            " 7   도로명       12386 non-null  object \n",
            " 8   시군구 코드    12386 non-null  int64  \n",
            " 9   거래금액(만원)  12386 non-null  int64  \n",
            " 10  학원개수      12358 non-null  float64\n",
            " 11  대형마트 개수   10721 non-null  float64\n",
            " 12  병원개수      10224 non-null  float64\n",
            " 13  스타벅스개수    9570 non-null   float64\n",
            " 14  배스킨       9801 non-null   float64\n",
            " 15  써브웨이      5718 non-null   float64\n",
            "dtypes: float64(7), int64(5), object(4)\n",
            "memory usage: 1.5+ MB\n"
          ]
        }
      ]
    },
    {
      "cell_type": "markdown",
      "source": [
        "## 편의점"
      ],
      "metadata": {
        "id": "0VOxNXygH7_A"
      }
    },
    {
      "cell_type": "code",
      "source": [
        "board={'가좌동': 8,\n",
        " '강매동': 1,\n",
        " '고양동': 16,\n",
        " '관산동': 17,\n",
        " '구산동': 2,\n",
        " '내곡동': 2,\n",
        " '내유동': 14,\n",
        " '대자동': 13,\n",
        " '대장동': 2,\n",
        " '대화동': 46,\n",
        " '덕은동': 4,\n",
        " '덕이동': 44,\n",
        " '도내동': 15,\n",
        " '동산동': 16,\n",
        " '마두동': 19,\n",
        " '문봉동': 9,\n",
        " '백석동': 30,\n",
        " '법곳동': 3,\n",
        " '벽제동': 7,\n",
        " '사리현동': 3,\n",
        " '삼송동': 17,\n",
        " '설문동': 4,\n",
        " '성사동': 14,\n",
        " '성석동': 15,\n",
        " '식사동': 27,\n",
        " '신원동': 12,\n",
        " '오금동': 1,\n",
        " '용두동': 3,\n",
        " '원당동': 1,\n",
        " '원흥동': 13,\n",
        " '일산동': 39,\n",
        " '장항동': 37,\n",
        " '정발산동': 14,\n",
        " '주교동': 17,\n",
        " '주엽동': 23,\n",
        " '중산동': 23,\n",
        " '지영동': 4,\n",
        " '지축동': 4,\n",
        " '탄현동': 29,\n",
        " '토당동': 14,\n",
        " '풍동': 23,\n",
        " '행신동': 37,\n",
        " '향동동': 6,\n",
        " '현천동': 1,\n",
        " '화전동': 4,\n",
        " '화정동': 30}"
      ],
      "metadata": {
        "id": "M5yeyRm5H5Gk"
      },
      "execution_count": null,
      "outputs": []
    },
    {
      "cell_type": "code",
      "source": [
        "df['편의점개수']=df['동'].map(board)"
      ],
      "metadata": {
        "id": "-dyD6hhcH_Qv"
      },
      "execution_count": null,
      "outputs": []
    },
    {
      "cell_type": "code",
      "source": [
        "df.info()"
      ],
      "metadata": {
        "colab": {
          "base_uri": "https://localhost:8080/"
        },
        "id": "1Cs0KrQrIuap",
        "outputId": "5368130d-c7b3-4fdf-d7ab-7d61f5876acd"
      },
      "execution_count": null,
      "outputs": [
        {
          "output_type": "stream",
          "name": "stdout",
          "text": [
            "<class 'pandas.core.frame.DataFrame'>\n",
            "RangeIndex: 12386 entries, 0 to 12385\n",
            "Data columns (total 17 columns):\n",
            " #   Column    Non-Null Count  Dtype  \n",
            "---  ------    --------------  -----  \n",
            " 0   도         12386 non-null  object \n",
            " 1   구         12386 non-null  object \n",
            " 2   동         12386 non-null  object \n",
            " 3   전용면적(㎡)   12386 non-null  float64\n",
            " 4   계약년       12386 non-null  int64  \n",
            " 5   계약월       12386 non-null  int64  \n",
            " 6   건축년도      12386 non-null  int64  \n",
            " 7   도로명       12386 non-null  object \n",
            " 8   시군구 코드    12386 non-null  int64  \n",
            " 9   거래금액(만원)  12386 non-null  int64  \n",
            " 10  학원개수      12358 non-null  float64\n",
            " 11  대형마트 개수   10721 non-null  float64\n",
            " 12  병원개수      10224 non-null  float64\n",
            " 13  스타벅스개수    9570 non-null   float64\n",
            " 14  배스킨       9801 non-null   float64\n",
            " 15  써브웨이      5718 non-null   float64\n",
            " 16  편의점개수     12365 non-null  float64\n",
            "dtypes: float64(8), int64(5), object(4)\n",
            "memory usage: 1.6+ MB\n"
          ]
        }
      ]
    },
    {
      "cell_type": "code",
      "source": [
        "df.head()"
      ],
      "metadata": {
        "colab": {
          "base_uri": "https://localhost:8080/",
          "height": 206
        },
        "id": "qEzaA2AoIvU_",
        "outputId": "1cd6362a-cc52-4b29-c614-d39f92aa7db9"
      },
      "execution_count": null,
      "outputs": [
        {
          "output_type": "execute_result",
          "data": {
            "text/plain": [
              "     도      구    동  전용면적(㎡)   계약년  계약월  건축년도     도로명      시군구 코드  거래금액(만원)  \\\n",
              "0  경기도  고양덕양구  고양동    84.93  2021    3  2007  읍내로 25  4128111600     27000   \n",
              "1  경기도  고양덕양구  고양동    59.99  2021    3  2007  읍내로 25  4128111600     26500   \n",
              "2  경기도  고양덕양구  고양동    84.93  2021    3  2007  읍내로 25  4128111600     29700   \n",
              "3  경기도  고양덕양구  고양동    59.99  2021    4  2007  읍내로 25  4128111600     26900   \n",
              "4  경기도  고양덕양구  고양동    84.93  2021    4  2007  읍내로 25  4128111600     28000   \n",
              "\n",
              "   학원개수  대형마트 개수  병원개수  스타벅스개수  배스킨  써브웨이  편의점개수  \n",
              "0  61.0      NaN   NaN     1.0  1.0   NaN   16.0  \n",
              "1  61.0      NaN   NaN     1.0  1.0   NaN   16.0  \n",
              "2  61.0      NaN   NaN     1.0  1.0   NaN   16.0  \n",
              "3  61.0      NaN   NaN     1.0  1.0   NaN   16.0  \n",
              "4  61.0      NaN   NaN     1.0  1.0   NaN   16.0  "
            ],
            "text/html": [
              "\n",
              "  <div id=\"df-a1c57b8c-2e75-459a-8b78-73b0cc54c312\">\n",
              "    <div class=\"colab-df-container\">\n",
              "      <div>\n",
              "<style scoped>\n",
              "    .dataframe tbody tr th:only-of-type {\n",
              "        vertical-align: middle;\n",
              "    }\n",
              "\n",
              "    .dataframe tbody tr th {\n",
              "        vertical-align: top;\n",
              "    }\n",
              "\n",
              "    .dataframe thead th {\n",
              "        text-align: right;\n",
              "    }\n",
              "</style>\n",
              "<table border=\"1\" class=\"dataframe\">\n",
              "  <thead>\n",
              "    <tr style=\"text-align: right;\">\n",
              "      <th></th>\n",
              "      <th>도</th>\n",
              "      <th>구</th>\n",
              "      <th>동</th>\n",
              "      <th>전용면적(㎡)</th>\n",
              "      <th>계약년</th>\n",
              "      <th>계약월</th>\n",
              "      <th>건축년도</th>\n",
              "      <th>도로명</th>\n",
              "      <th>시군구 코드</th>\n",
              "      <th>거래금액(만원)</th>\n",
              "      <th>학원개수</th>\n",
              "      <th>대형마트 개수</th>\n",
              "      <th>병원개수</th>\n",
              "      <th>스타벅스개수</th>\n",
              "      <th>배스킨</th>\n",
              "      <th>써브웨이</th>\n",
              "      <th>편의점개수</th>\n",
              "    </tr>\n",
              "  </thead>\n",
              "  <tbody>\n",
              "    <tr>\n",
              "      <th>0</th>\n",
              "      <td>경기도</td>\n",
              "      <td>고양덕양구</td>\n",
              "      <td>고양동</td>\n",
              "      <td>84.93</td>\n",
              "      <td>2021</td>\n",
              "      <td>3</td>\n",
              "      <td>2007</td>\n",
              "      <td>읍내로 25</td>\n",
              "      <td>4128111600</td>\n",
              "      <td>27000</td>\n",
              "      <td>61.0</td>\n",
              "      <td>NaN</td>\n",
              "      <td>NaN</td>\n",
              "      <td>1.0</td>\n",
              "      <td>1.0</td>\n",
              "      <td>NaN</td>\n",
              "      <td>16.0</td>\n",
              "    </tr>\n",
              "    <tr>\n",
              "      <th>1</th>\n",
              "      <td>경기도</td>\n",
              "      <td>고양덕양구</td>\n",
              "      <td>고양동</td>\n",
              "      <td>59.99</td>\n",
              "      <td>2021</td>\n",
              "      <td>3</td>\n",
              "      <td>2007</td>\n",
              "      <td>읍내로 25</td>\n",
              "      <td>4128111600</td>\n",
              "      <td>26500</td>\n",
              "      <td>61.0</td>\n",
              "      <td>NaN</td>\n",
              "      <td>NaN</td>\n",
              "      <td>1.0</td>\n",
              "      <td>1.0</td>\n",
              "      <td>NaN</td>\n",
              "      <td>16.0</td>\n",
              "    </tr>\n",
              "    <tr>\n",
              "      <th>2</th>\n",
              "      <td>경기도</td>\n",
              "      <td>고양덕양구</td>\n",
              "      <td>고양동</td>\n",
              "      <td>84.93</td>\n",
              "      <td>2021</td>\n",
              "      <td>3</td>\n",
              "      <td>2007</td>\n",
              "      <td>읍내로 25</td>\n",
              "      <td>4128111600</td>\n",
              "      <td>29700</td>\n",
              "      <td>61.0</td>\n",
              "      <td>NaN</td>\n",
              "      <td>NaN</td>\n",
              "      <td>1.0</td>\n",
              "      <td>1.0</td>\n",
              "      <td>NaN</td>\n",
              "      <td>16.0</td>\n",
              "    </tr>\n",
              "    <tr>\n",
              "      <th>3</th>\n",
              "      <td>경기도</td>\n",
              "      <td>고양덕양구</td>\n",
              "      <td>고양동</td>\n",
              "      <td>59.99</td>\n",
              "      <td>2021</td>\n",
              "      <td>4</td>\n",
              "      <td>2007</td>\n",
              "      <td>읍내로 25</td>\n",
              "      <td>4128111600</td>\n",
              "      <td>26900</td>\n",
              "      <td>61.0</td>\n",
              "      <td>NaN</td>\n",
              "      <td>NaN</td>\n",
              "      <td>1.0</td>\n",
              "      <td>1.0</td>\n",
              "      <td>NaN</td>\n",
              "      <td>16.0</td>\n",
              "    </tr>\n",
              "    <tr>\n",
              "      <th>4</th>\n",
              "      <td>경기도</td>\n",
              "      <td>고양덕양구</td>\n",
              "      <td>고양동</td>\n",
              "      <td>84.93</td>\n",
              "      <td>2021</td>\n",
              "      <td>4</td>\n",
              "      <td>2007</td>\n",
              "      <td>읍내로 25</td>\n",
              "      <td>4128111600</td>\n",
              "      <td>28000</td>\n",
              "      <td>61.0</td>\n",
              "      <td>NaN</td>\n",
              "      <td>NaN</td>\n",
              "      <td>1.0</td>\n",
              "      <td>1.0</td>\n",
              "      <td>NaN</td>\n",
              "      <td>16.0</td>\n",
              "    </tr>\n",
              "  </tbody>\n",
              "</table>\n",
              "</div>\n",
              "      <button class=\"colab-df-convert\" onclick=\"convertToInteractive('df-a1c57b8c-2e75-459a-8b78-73b0cc54c312')\"\n",
              "              title=\"Convert this dataframe to an interactive table.\"\n",
              "              style=\"display:none;\">\n",
              "        \n",
              "  <svg xmlns=\"http://www.w3.org/2000/svg\" height=\"24px\"viewBox=\"0 0 24 24\"\n",
              "       width=\"24px\">\n",
              "    <path d=\"M0 0h24v24H0V0z\" fill=\"none\"/>\n",
              "    <path d=\"M18.56 5.44l.94 2.06.94-2.06 2.06-.94-2.06-.94-.94-2.06-.94 2.06-2.06.94zm-11 1L8.5 8.5l.94-2.06 2.06-.94-2.06-.94L8.5 2.5l-.94 2.06-2.06.94zm10 10l.94 2.06.94-2.06 2.06-.94-2.06-.94-.94-2.06-.94 2.06-2.06.94z\"/><path d=\"M17.41 7.96l-1.37-1.37c-.4-.4-.92-.59-1.43-.59-.52 0-1.04.2-1.43.59L10.3 9.45l-7.72 7.72c-.78.78-.78 2.05 0 2.83L4 21.41c.39.39.9.59 1.41.59.51 0 1.02-.2 1.41-.59l7.78-7.78 2.81-2.81c.8-.78.8-2.07 0-2.86zM5.41 20L4 18.59l7.72-7.72 1.47 1.35L5.41 20z\"/>\n",
              "  </svg>\n",
              "      </button>\n",
              "      \n",
              "  <style>\n",
              "    .colab-df-container {\n",
              "      display:flex;\n",
              "      flex-wrap:wrap;\n",
              "      gap: 12px;\n",
              "    }\n",
              "\n",
              "    .colab-df-convert {\n",
              "      background-color: #E8F0FE;\n",
              "      border: none;\n",
              "      border-radius: 50%;\n",
              "      cursor: pointer;\n",
              "      display: none;\n",
              "      fill: #1967D2;\n",
              "      height: 32px;\n",
              "      padding: 0 0 0 0;\n",
              "      width: 32px;\n",
              "    }\n",
              "\n",
              "    .colab-df-convert:hover {\n",
              "      background-color: #E2EBFA;\n",
              "      box-shadow: 0px 1px 2px rgba(60, 64, 67, 0.3), 0px 1px 3px 1px rgba(60, 64, 67, 0.15);\n",
              "      fill: #174EA6;\n",
              "    }\n",
              "\n",
              "    [theme=dark] .colab-df-convert {\n",
              "      background-color: #3B4455;\n",
              "      fill: #D2E3FC;\n",
              "    }\n",
              "\n",
              "    [theme=dark] .colab-df-convert:hover {\n",
              "      background-color: #434B5C;\n",
              "      box-shadow: 0px 1px 3px 1px rgba(0, 0, 0, 0.15);\n",
              "      filter: drop-shadow(0px 1px 2px rgba(0, 0, 0, 0.3));\n",
              "      fill: #FFFFFF;\n",
              "    }\n",
              "  </style>\n",
              "\n",
              "      <script>\n",
              "        const buttonEl =\n",
              "          document.querySelector('#df-a1c57b8c-2e75-459a-8b78-73b0cc54c312 button.colab-df-convert');\n",
              "        buttonEl.style.display =\n",
              "          google.colab.kernel.accessAllowed ? 'block' : 'none';\n",
              "\n",
              "        async function convertToInteractive(key) {\n",
              "          const element = document.querySelector('#df-a1c57b8c-2e75-459a-8b78-73b0cc54c312');\n",
              "          const dataTable =\n",
              "            await google.colab.kernel.invokeFunction('convertToInteractive',\n",
              "                                                     [key], {});\n",
              "          if (!dataTable) return;\n",
              "\n",
              "          const docLinkHtml = 'Like what you see? Visit the ' +\n",
              "            '<a target=\"_blank\" href=https://colab.research.google.com/notebooks/data_table.ipynb>data table notebook</a>'\n",
              "            + ' to learn more about interactive tables.';\n",
              "          element.innerHTML = '';\n",
              "          dataTable['output_type'] = 'display_data';\n",
              "          await google.colab.output.renderOutput(dataTable, element);\n",
              "          const docLink = document.createElement('div');\n",
              "          docLink.innerHTML = docLinkHtml;\n",
              "          element.appendChild(docLink);\n",
              "        }\n",
              "      </script>\n",
              "    </div>\n",
              "  </div>\n",
              "  "
            ]
          },
          "metadata": {},
          "execution_count": 64
        }
      ]
    },
    {
      "cell_type": "markdown",
      "source": [
        "# 데이터 형식변환"
      ],
      "metadata": {
        "id": "ovscebnyLmkX"
      }
    },
    {
      "cell_type": "code",
      "source": [
        "df=df.fillna(0)"
      ],
      "metadata": {
        "id": "u0pKsKnBK5SP"
      },
      "execution_count": null,
      "outputs": []
    },
    {
      "cell_type": "code",
      "source": [
        "df['학원개수']=df['학원개수'].astype(int)\n",
        "df['대형마트 개수']=df['대형마트 개수'].astype(int)\n",
        "df['스타벅스개수']=df['스타벅스개수'].astype(int)\n",
        "df['배스킨']=df['배스킨'].astype(int)\n",
        "df['써브웨이']=df['써브웨이'].astype(int)\n",
        "df['편의점개수']=df['편의점개수'].astype(int)"
      ],
      "metadata": {
        "id": "_mdsciz8I865"
      },
      "execution_count": null,
      "outputs": []
    },
    {
      "cell_type": "code",
      "source": [
        "df['병원개수']=df['병원개수'].astype(int)"
      ],
      "metadata": {
        "id": "l_2a9jquLQW9"
      },
      "execution_count": null,
      "outputs": []
    },
    {
      "cell_type": "code",
      "source": [
        "df.info()"
      ],
      "metadata": {
        "colab": {
          "base_uri": "https://localhost:8080/"
        },
        "id": "LyttmR06K9sI",
        "outputId": "0a6a86cd-14dc-4c38-fad2-65550bbe2e8b"
      },
      "execution_count": null,
      "outputs": [
        {
          "output_type": "stream",
          "name": "stdout",
          "text": [
            "<class 'pandas.core.frame.DataFrame'>\n",
            "RangeIndex: 12386 entries, 0 to 12385\n",
            "Data columns (total 17 columns):\n",
            " #   Column    Non-Null Count  Dtype  \n",
            "---  ------    --------------  -----  \n",
            " 0   도         12386 non-null  object \n",
            " 1   구         12386 non-null  object \n",
            " 2   동         12386 non-null  object \n",
            " 3   전용면적(㎡)   12386 non-null  float64\n",
            " 4   계약년       12386 non-null  int64  \n",
            " 5   계약월       12386 non-null  int64  \n",
            " 6   건축년도      12386 non-null  int64  \n",
            " 7   도로명       12386 non-null  object \n",
            " 8   시군구 코드    12386 non-null  int64  \n",
            " 9   거래금액(만원)  12386 non-null  int64  \n",
            " 10  학원개수      12386 non-null  int64  \n",
            " 11  대형마트 개수   12386 non-null  int64  \n",
            " 12  병원개수      12386 non-null  int64  \n",
            " 13  스타벅스개수    12386 non-null  int64  \n",
            " 14  배스킨       12386 non-null  int64  \n",
            " 15  써브웨이      12386 non-null  int64  \n",
            " 16  편의점개수     12386 non-null  int64  \n",
            "dtypes: float64(1), int64(12), object(4)\n",
            "memory usage: 1.6+ MB\n"
          ]
        }
      ]
    },
    {
      "cell_type": "code",
      "source": [
        "df.head()"
      ],
      "metadata": {
        "colab": {
          "base_uri": "https://localhost:8080/",
          "height": 206
        },
        "id": "435Wdd28K95L",
        "outputId": "afed8b13-d194-4d98-bcda-37ab947ed1c0"
      },
      "execution_count": null,
      "outputs": [
        {
          "output_type": "execute_result",
          "data": {
            "text/plain": [
              "     도      구    동  전용면적(㎡)   계약년  계약월  건축년도     도로명      시군구 코드  거래금액(만원)  \\\n",
              "0  경기도  고양덕양구  고양동    84.93  2021    3  2007  읍내로 25  4128111600     27000   \n",
              "1  경기도  고양덕양구  고양동    59.99  2021    3  2007  읍내로 25  4128111600     26500   \n",
              "2  경기도  고양덕양구  고양동    84.93  2021    3  2007  읍내로 25  4128111600     29700   \n",
              "3  경기도  고양덕양구  고양동    59.99  2021    4  2007  읍내로 25  4128111600     26900   \n",
              "4  경기도  고양덕양구  고양동    84.93  2021    4  2007  읍내로 25  4128111600     28000   \n",
              "\n",
              "   학원개수  대형마트 개수  병원개수  스타벅스개수  배스킨  써브웨이  편의점개수  \n",
              "0    61        0     0       1    1     0     16  \n",
              "1    61        0     0       1    1     0     16  \n",
              "2    61        0     0       1    1     0     16  \n",
              "3    61        0     0       1    1     0     16  \n",
              "4    61        0     0       1    1     0     16  "
            ],
            "text/html": [
              "\n",
              "  <div id=\"df-546d6602-272d-48c0-b0c7-94a15187e485\">\n",
              "    <div class=\"colab-df-container\">\n",
              "      <div>\n",
              "<style scoped>\n",
              "    .dataframe tbody tr th:only-of-type {\n",
              "        vertical-align: middle;\n",
              "    }\n",
              "\n",
              "    .dataframe tbody tr th {\n",
              "        vertical-align: top;\n",
              "    }\n",
              "\n",
              "    .dataframe thead th {\n",
              "        text-align: right;\n",
              "    }\n",
              "</style>\n",
              "<table border=\"1\" class=\"dataframe\">\n",
              "  <thead>\n",
              "    <tr style=\"text-align: right;\">\n",
              "      <th></th>\n",
              "      <th>도</th>\n",
              "      <th>구</th>\n",
              "      <th>동</th>\n",
              "      <th>전용면적(㎡)</th>\n",
              "      <th>계약년</th>\n",
              "      <th>계약월</th>\n",
              "      <th>건축년도</th>\n",
              "      <th>도로명</th>\n",
              "      <th>시군구 코드</th>\n",
              "      <th>거래금액(만원)</th>\n",
              "      <th>학원개수</th>\n",
              "      <th>대형마트 개수</th>\n",
              "      <th>병원개수</th>\n",
              "      <th>스타벅스개수</th>\n",
              "      <th>배스킨</th>\n",
              "      <th>써브웨이</th>\n",
              "      <th>편의점개수</th>\n",
              "    </tr>\n",
              "  </thead>\n",
              "  <tbody>\n",
              "    <tr>\n",
              "      <th>0</th>\n",
              "      <td>경기도</td>\n",
              "      <td>고양덕양구</td>\n",
              "      <td>고양동</td>\n",
              "      <td>84.93</td>\n",
              "      <td>2021</td>\n",
              "      <td>3</td>\n",
              "      <td>2007</td>\n",
              "      <td>읍내로 25</td>\n",
              "      <td>4128111600</td>\n",
              "      <td>27000</td>\n",
              "      <td>61</td>\n",
              "      <td>0</td>\n",
              "      <td>0</td>\n",
              "      <td>1</td>\n",
              "      <td>1</td>\n",
              "      <td>0</td>\n",
              "      <td>16</td>\n",
              "    </tr>\n",
              "    <tr>\n",
              "      <th>1</th>\n",
              "      <td>경기도</td>\n",
              "      <td>고양덕양구</td>\n",
              "      <td>고양동</td>\n",
              "      <td>59.99</td>\n",
              "      <td>2021</td>\n",
              "      <td>3</td>\n",
              "      <td>2007</td>\n",
              "      <td>읍내로 25</td>\n",
              "      <td>4128111600</td>\n",
              "      <td>26500</td>\n",
              "      <td>61</td>\n",
              "      <td>0</td>\n",
              "      <td>0</td>\n",
              "      <td>1</td>\n",
              "      <td>1</td>\n",
              "      <td>0</td>\n",
              "      <td>16</td>\n",
              "    </tr>\n",
              "    <tr>\n",
              "      <th>2</th>\n",
              "      <td>경기도</td>\n",
              "      <td>고양덕양구</td>\n",
              "      <td>고양동</td>\n",
              "      <td>84.93</td>\n",
              "      <td>2021</td>\n",
              "      <td>3</td>\n",
              "      <td>2007</td>\n",
              "      <td>읍내로 25</td>\n",
              "      <td>4128111600</td>\n",
              "      <td>29700</td>\n",
              "      <td>61</td>\n",
              "      <td>0</td>\n",
              "      <td>0</td>\n",
              "      <td>1</td>\n",
              "      <td>1</td>\n",
              "      <td>0</td>\n",
              "      <td>16</td>\n",
              "    </tr>\n",
              "    <tr>\n",
              "      <th>3</th>\n",
              "      <td>경기도</td>\n",
              "      <td>고양덕양구</td>\n",
              "      <td>고양동</td>\n",
              "      <td>59.99</td>\n",
              "      <td>2021</td>\n",
              "      <td>4</td>\n",
              "      <td>2007</td>\n",
              "      <td>읍내로 25</td>\n",
              "      <td>4128111600</td>\n",
              "      <td>26900</td>\n",
              "      <td>61</td>\n",
              "      <td>0</td>\n",
              "      <td>0</td>\n",
              "      <td>1</td>\n",
              "      <td>1</td>\n",
              "      <td>0</td>\n",
              "      <td>16</td>\n",
              "    </tr>\n",
              "    <tr>\n",
              "      <th>4</th>\n",
              "      <td>경기도</td>\n",
              "      <td>고양덕양구</td>\n",
              "      <td>고양동</td>\n",
              "      <td>84.93</td>\n",
              "      <td>2021</td>\n",
              "      <td>4</td>\n",
              "      <td>2007</td>\n",
              "      <td>읍내로 25</td>\n",
              "      <td>4128111600</td>\n",
              "      <td>28000</td>\n",
              "      <td>61</td>\n",
              "      <td>0</td>\n",
              "      <td>0</td>\n",
              "      <td>1</td>\n",
              "      <td>1</td>\n",
              "      <td>0</td>\n",
              "      <td>16</td>\n",
              "    </tr>\n",
              "  </tbody>\n",
              "</table>\n",
              "</div>\n",
              "      <button class=\"colab-df-convert\" onclick=\"convertToInteractive('df-546d6602-272d-48c0-b0c7-94a15187e485')\"\n",
              "              title=\"Convert this dataframe to an interactive table.\"\n",
              "              style=\"display:none;\">\n",
              "        \n",
              "  <svg xmlns=\"http://www.w3.org/2000/svg\" height=\"24px\"viewBox=\"0 0 24 24\"\n",
              "       width=\"24px\">\n",
              "    <path d=\"M0 0h24v24H0V0z\" fill=\"none\"/>\n",
              "    <path d=\"M18.56 5.44l.94 2.06.94-2.06 2.06-.94-2.06-.94-.94-2.06-.94 2.06-2.06.94zm-11 1L8.5 8.5l.94-2.06 2.06-.94-2.06-.94L8.5 2.5l-.94 2.06-2.06.94zm10 10l.94 2.06.94-2.06 2.06-.94-2.06-.94-.94-2.06-.94 2.06-2.06.94z\"/><path d=\"M17.41 7.96l-1.37-1.37c-.4-.4-.92-.59-1.43-.59-.52 0-1.04.2-1.43.59L10.3 9.45l-7.72 7.72c-.78.78-.78 2.05 0 2.83L4 21.41c.39.39.9.59 1.41.59.51 0 1.02-.2 1.41-.59l7.78-7.78 2.81-2.81c.8-.78.8-2.07 0-2.86zM5.41 20L4 18.59l7.72-7.72 1.47 1.35L5.41 20z\"/>\n",
              "  </svg>\n",
              "      </button>\n",
              "      \n",
              "  <style>\n",
              "    .colab-df-container {\n",
              "      display:flex;\n",
              "      flex-wrap:wrap;\n",
              "      gap: 12px;\n",
              "    }\n",
              "\n",
              "    .colab-df-convert {\n",
              "      background-color: #E8F0FE;\n",
              "      border: none;\n",
              "      border-radius: 50%;\n",
              "      cursor: pointer;\n",
              "      display: none;\n",
              "      fill: #1967D2;\n",
              "      height: 32px;\n",
              "      padding: 0 0 0 0;\n",
              "      width: 32px;\n",
              "    }\n",
              "\n",
              "    .colab-df-convert:hover {\n",
              "      background-color: #E2EBFA;\n",
              "      box-shadow: 0px 1px 2px rgba(60, 64, 67, 0.3), 0px 1px 3px 1px rgba(60, 64, 67, 0.15);\n",
              "      fill: #174EA6;\n",
              "    }\n",
              "\n",
              "    [theme=dark] .colab-df-convert {\n",
              "      background-color: #3B4455;\n",
              "      fill: #D2E3FC;\n",
              "    }\n",
              "\n",
              "    [theme=dark] .colab-df-convert:hover {\n",
              "      background-color: #434B5C;\n",
              "      box-shadow: 0px 1px 3px 1px rgba(0, 0, 0, 0.15);\n",
              "      filter: drop-shadow(0px 1px 2px rgba(0, 0, 0, 0.3));\n",
              "      fill: #FFFFFF;\n",
              "    }\n",
              "  </style>\n",
              "\n",
              "      <script>\n",
              "        const buttonEl =\n",
              "          document.querySelector('#df-546d6602-272d-48c0-b0c7-94a15187e485 button.colab-df-convert');\n",
              "        buttonEl.style.display =\n",
              "          google.colab.kernel.accessAllowed ? 'block' : 'none';\n",
              "\n",
              "        async function convertToInteractive(key) {\n",
              "          const element = document.querySelector('#df-546d6602-272d-48c0-b0c7-94a15187e485');\n",
              "          const dataTable =\n",
              "            await google.colab.kernel.invokeFunction('convertToInteractive',\n",
              "                                                     [key], {});\n",
              "          if (!dataTable) return;\n",
              "\n",
              "          const docLinkHtml = 'Like what you see? Visit the ' +\n",
              "            '<a target=\"_blank\" href=https://colab.research.google.com/notebooks/data_table.ipynb>data table notebook</a>'\n",
              "            + ' to learn more about interactive tables.';\n",
              "          element.innerHTML = '';\n",
              "          dataTable['output_type'] = 'display_data';\n",
              "          await google.colab.output.renderOutput(dataTable, element);\n",
              "          const docLink = document.createElement('div');\n",
              "          docLink.innerHTML = docLinkHtml;\n",
              "          element.appendChild(docLink);\n",
              "        }\n",
              "      </script>\n",
              "    </div>\n",
              "  </div>\n",
              "  "
            ]
          },
          "metadata": {},
          "execution_count": 74
        }
      ]
    },
    {
      "cell_type": "code",
      "source": [
        "df.to_csv('Goyang_home.csv')"
      ],
      "metadata": {
        "id": "7ocE8mm6LOZ8"
      },
      "execution_count": null,
      "outputs": []
    },
    {
      "cell_type": "markdown",
      "source": [
        "# EDA "
      ],
      "metadata": {
        "id": "mIlZY6TQLjh0"
      }
    },
    {
      "cell_type": "code",
      "source": [
        "df.columns"
      ],
      "metadata": {
        "colab": {
          "base_uri": "https://localhost:8080/"
        },
        "id": "bAsrXPqOLgjz",
        "outputId": "d357b0f2-4179-433d-aa20-0dbce0ac26b1"
      },
      "execution_count": null,
      "outputs": [
        {
          "output_type": "execute_result",
          "data": {
            "text/plain": [
              "Index(['도', '구', '동', '전용면적(㎡)', '계약년', '계약월', '건축년도', '도로명', '시군구 코드',\n",
              "       '거래금액(만원)', '학원개수', '대형마트 개수', '병원개수', '스타벅스개수', '배스킨', '써브웨이',\n",
              "       '편의점개수'],\n",
              "      dtype='object')"
            ]
          },
          "metadata": {},
          "execution_count": 76
        }
      ]
    },
    {
      "cell_type": "code",
      "source": [
        "df.info()"
      ],
      "metadata": {
        "colab": {
          "base_uri": "https://localhost:8080/"
        },
        "id": "2yxyap0lLwUW",
        "outputId": "60781966-fde5-4c8a-f953-f7fd1d8ed904"
      },
      "execution_count": null,
      "outputs": [
        {
          "output_type": "stream",
          "name": "stdout",
          "text": [
            "<class 'pandas.core.frame.DataFrame'>\n",
            "RangeIndex: 12386 entries, 0 to 12385\n",
            "Data columns (total 17 columns):\n",
            " #   Column    Non-Null Count  Dtype  \n",
            "---  ------    --------------  -----  \n",
            " 0   도         12386 non-null  object \n",
            " 1   구         12386 non-null  object \n",
            " 2   동         12386 non-null  object \n",
            " 3   전용면적(㎡)   12386 non-null  float64\n",
            " 4   계약년       12386 non-null  int64  \n",
            " 5   계약월       12386 non-null  int64  \n",
            " 6   건축년도      12386 non-null  int64  \n",
            " 7   도로명       12386 non-null  object \n",
            " 8   시군구 코드    12386 non-null  int64  \n",
            " 9   거래금액(만원)  12386 non-null  int64  \n",
            " 10  학원개수      12386 non-null  int64  \n",
            " 11  대형마트 개수   12386 non-null  int64  \n",
            " 12  병원개수      12386 non-null  int64  \n",
            " 13  스타벅스개수    12386 non-null  int64  \n",
            " 14  배스킨       12386 non-null  int64  \n",
            " 15  써브웨이      12386 non-null  int64  \n",
            " 16  편의점개수     12386 non-null  int64  \n",
            "dtypes: float64(1), int64(12), object(4)\n",
            "memory usage: 1.6+ MB\n"
          ]
        }
      ]
    },
    {
      "cell_type": "code",
      "source": [
        "sns.boxplot(data=df,x='학원개수')"
      ],
      "metadata": {
        "colab": {
          "base_uri": "https://localhost:8080/",
          "height": 299
        },
        "id": "f_fh4VX0LxWP",
        "outputId": "8b76c6ef-3bf7-4224-c849-0273c19b2410"
      },
      "execution_count": null,
      "outputs": [
        {
          "output_type": "execute_result",
          "data": {
            "text/plain": [
              "<matplotlib.axes._subplots.AxesSubplot at 0x7f5df1768d50>"
            ]
          },
          "metadata": {},
          "execution_count": 81
        },
        {
          "output_type": "display_data",
          "data": {
            "text/plain": [
              "<Figure size 432x288 with 1 Axes>"
            ],
            "image/png": "[encoded data removed]"
          },
          "metadata": {
            "needs_background": "light"
          }
        }
      ]
    },
    {
      "cell_type": "code",
      "source": [
        "sns.histplot(data=df,x='학원개수')"
      ],
      "metadata": {
        "colab": {
          "base_uri": "https://localhost:8080/",
          "height": 299
        },
        "id": "4ytDkzoONdU3",
        "outputId": "cd056d74-fcdc-4b3f-8f6b-1f86d099be30"
      },
      "execution_count": null,
      "outputs": [
        {
          "output_type": "execute_result",
          "data": {
            "text/plain": [
              "<matplotlib.axes._subplots.AxesSubplot at 0x7f5df175f810>"
            ]
          },
          "metadata": {},
          "execution_count": 82
        },
        {
          "output_type": "display_data",
          "data": {
            "text/plain": [
              "<Figure size 432x288 with 1 Axes>"
            ],
            "image/png": "[encoded data removed]"
          },
          "metadata": {
            "needs_background": "light"
          }
        }
      ]
    },
    {
      "cell_type": "code",
      "source": [
        "sns.boxplot(data=df,x='대형마트 개수')"
      ],
      "metadata": {
        "colab": {
          "base_uri": "https://localhost:8080/",
          "height": 299
        },
        "id": "AeBDuW3YNfPk",
        "outputId": "6624a392-907a-488f-82d5-8cdd12f4aa98"
      },
      "execution_count": null,
      "outputs": [
        {
          "output_type": "execute_result",
          "data": {
            "text/plain": [
              "<matplotlib.axes._subplots.AxesSubplot at 0x7f5df175f110>"
            ]
          },
          "metadata": {},
          "execution_count": 83
        },
        {
          "output_type": "display_data",
          "data": {
            "text/plain": [
              "<Figure size 432x288 with 1 Axes>"
            ],
            "image/png": "[encoded data removed]"
          },
          "metadata": {
            "needs_background": "light"
          }
        }
      ]
    },
    {
      "cell_type": "code",
      "source": [
        "sns.histplot(data=df,x='대형마트 개수')"
      ],
      "metadata": {
        "colab": {
          "base_uri": "https://localhost:8080/",
          "height": 299
        },
        "id": "qmbbVqmxNmPA",
        "outputId": "64843a7e-d4af-45c1-a0b8-ced27090e797"
      },
      "execution_count": null,
      "outputs": [
        {
          "output_type": "execute_result",
          "data": {
            "text/plain": [
              "<matplotlib.axes._subplots.AxesSubplot at 0x7f5df15b5490>"
            ]
          },
          "metadata": {},
          "execution_count": 84
        },
        {
          "output_type": "display_data",
          "data": {
            "text/plain": [
              "<Figure size 432x288 with 1 Axes>"
            ],
            "image/png": "[encoded data removed]"
          },
          "metadata": {
            "needs_background": "light"
          }
        }
      ]
    },
    {
      "cell_type": "code",
      "source": [
        "col=df.columns\n",
        "col"
      ],
      "metadata": {
        "id": "uK5G8w6kNokc"
      },
      "execution_count": null,
      "outputs": []
    },
    {
      "cell_type": "code",
      "source": [
        "col=['학원개수', '대형마트 개수', '병원개수', '스타벅스개수', '배스킨', '써브웨이',\n",
        "       '편의점개수']"
      ],
      "metadata": {
        "id": "JFjPjTAvNzPz"
      },
      "execution_count": null,
      "outputs": []
    },
    {
      "cell_type": "code",
      "source": [
        "import warnings\n",
        "warnings.filterwarnings(action='ignore')\n",
        "\n",
        "plt.figure(figsize=(12,12))\n",
        "for i,colName in enumerate(col):\n",
        "  plt.subplot(3,3,i+1)\n",
        "  sns.distplot(df.loc[:,colName])\n",
        "plt.tight_layout()\n",
        "plt.show()"
      ],
      "metadata": {
        "colab": {
          "base_uri": "https://localhost:8080/",
          "height": 733
        },
        "id": "0cOpBy5rNz6Y",
        "outputId": "bf5e7f41-e9c8-4b91-dd1d-8b8bcb1031e9"
      },
      "execution_count": null,
      "outputs": [
        {
          "output_type": "display_data",
          "data": {
            "text/plain": [
              "<Figure size 864x864 with 7 Axes>"
            ],
            "image/png": "[encoded data removed]"
          },
          "metadata": {
            "needs_background": "light"
          }
        }
      ]
    },
    {
      "cell_type": "code",
      "source": [
        "import warnings\n",
        "warnings.filterwarnings(action='ignore')\n",
        "\n",
        "plt.figure(figsize=(12,12))\n",
        "for i,colName in enumerate(col):\n",
        "  plt.subplot(3,3,i+1)\n",
        "  sns.boxplot(df.loc[:,colName])\n",
        "plt.tight_layout()\n",
        "plt.show()"
      ],
      "metadata": {
        "colab": {
          "base_uri": "https://localhost:8080/",
          "height": 733
        },
        "id": "6D7ExpqBPOr3",
        "outputId": "443f3054-1e65-473a-fea7-851fa48d4e74"
      },
      "execution_count": null,
      "outputs": [
        {
          "output_type": "display_data",
          "data": {
            "text/plain": [
              "<Figure size 864x864 with 7 Axes>"
            ],
            "image/png": "[encoded data removed]"
          },
          "metadata": {
            "needs_background": "light"
          }
        }
      ]
    },
    {
      "cell_type": "code",
      "source": [
        "plt.figure(figsize=(10,10))\n",
        "sns.heatmap(df.corr(),annot=True)"
      ],
      "metadata": {
        "colab": {
          "base_uri": "https://localhost:8080/",
          "height": 665
        },
        "id": "twlrFRIyPWNh",
        "outputId": "c3cb1294-128a-4120-8349-de4db94f4e33"
      },
      "execution_count": null,
      "outputs": [
        {
          "output_type": "execute_result",
          "data": {
            "text/plain": [
              "<matplotlib.axes._subplots.AxesSubplot at 0x7f5dea7cef90>"
            ]
          },
          "metadata": {},
          "execution_count": 93
        },
        {
          "output_type": "display_data",
          "data": {
            "text/plain": [
              "<Figure size 720x720 with 2 Axes>"
            ],
            "image/png": "[encoded data removed]"
          },
          "metadata": {
            "needs_background": "light"
          }
        }
      ]
    },
    {
      "cell_type": "code",
      "source": [
        ""
      ],
      "metadata": {
        "id": "WSjswXXn5_f-"
      },
      "execution_count": null,
      "outputs": []
    }
  ]
}